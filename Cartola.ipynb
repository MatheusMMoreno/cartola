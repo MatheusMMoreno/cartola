{
 "cells": [
  {
   "cell_type": "markdown",
   "metadata": {},
   "source": [
    "<h1 style=\"color:gray;\"> Import Packages and Functions </h1>"
   ]
  },
  {
   "cell_type": "code",
   "execution_count": 767,
   "metadata": {},
   "outputs": [],
   "source": [
    "#Basic Packages\n",
    "import pandas as pd\n",
    "import numpy as np\n",
    "import matplotlib.pyplot as plt\n",
    "import seaborn as sns\n",
    "\n",
    "#DB packages\n",
    "import pyodbc\n",
    "\n",
    "#time packages\n",
    "import time\n",
    "import datetime\n",
    "\n",
    "#html communication package\n",
    "import requests as r\n",
    "\n",
    "#Packages for Machine Learning\n",
    "import researchpy as rp\n",
    "import missingno as msno\n",
    "from sklearn.utils import resample\n",
    "\n",
    "#Hyperparameter tuning\n",
    "from sklearn.model_selection import RandomizedSearchCV  \n",
    "\n",
    "#Data pre procces package\n",
    "from sklearn.model_selection  import train_test_split\n",
    "\n",
    "#For scale transformations\n",
    "from sklearn.preprocessing import MinMaxScaler\n",
    "\n",
    "#Random Forest Algorithim\n",
    "from sklearn.ensemble import RandomForestRegressor"
   ]
  },
  {
   "cell_type": "code",
   "execution_count": 768,
   "metadata": {},
   "outputs": [],
   "source": [
    "#Saving Model\n",
    "import pickle\n",
    "from joblib import dump, load"
   ]
  },
  {
   "cell_type": "markdown",
   "metadata": {},
   "source": [
    "#Current Round API\n",
    "\n",
    "https://api.cartolafc.globo.com/rodadas\n",
    "https://api.cartolafc.globo.com/clubes\n",
    "https://api.cartolafc.globo.com/partidas\n",
    "https://api.cartolafc.globo.com/atletas/mercado"
   ]
  },
  {
   "cell_type": "markdown",
   "metadata": {},
   "source": [
    "#Historic Info\n",
    "https://github.com/henriquepgomide/caRtola/tree/master/data\n",
    "\n",
    "[1]H. Gomide e A. Gualberto, CaRtola: Extração de dados da API do CartolaFC, análise exploratória dos dados e modelos preditivos em R e Python. https://github.com/henriquepgomide/caRtola/. 2020."
   ]
  },
  {
   "cell_type": "markdown",
   "metadata": {},
   "source": [
    "<h2 style=\"color:gray;\"> Goal: The goal is predict points on the next round for a specific player based on current round data </h2>\n",
    "\n",
    "<p>Based on points prediction you can evaliuate which is the best pick</p>"
   ]
  },
  {
   "cell_type": "code",
   "execution_count": 769,
   "metadata": {},
   "outputs": [],
   "source": [
    "def download_data(root, years, rodadas):    \n",
    "        \n",
    "    for ano in years:\n",
    "        for rodada in rodadas:\n",
    "            file = root+\"/\"+ano+\"/rodada-\"+rodada+\".csv\"\n",
    "            print(file,end='\\r',flush=True)\n",
    "            try:\n",
    "                df = pd.read_csv(file)\n",
    "                df['ano'] = int(ano)\n",
    "                df['rodada']= int(rodada)\n",
    "                df.to_excel(\"C:\\\\Users\\\\Matheus\\\\Documents\\\\projetos_github\\\\AI\\\\cartola\\\\data\\\\\"+ano+\"_\"+rodada+\".xlsx\")\n",
    "            except:\n",
    "                pass\n",
    "            \n",
    "    \n",
    "    return history"
   ]
  },
  {
   "cell_type": "code",
   "execution_count": 770,
   "metadata": {},
   "outputs": [],
   "source": [
    "def read_data(root, years, rodadas):\n",
    "    \n",
    "    file = file =\"C:\\\\Users\\\\Matheus\\\\Documents\\\\projetos_github\\\\AI\\\\cartola\\\\data\\\\\"+years[0]+\"_\"+rodadas[0]+\".xlsx\"\n",
    "    df = pd.read_excel(file)\n",
    "    \n",
    "    history=pd.DataFrame(columns=df.columns)\n",
    "    \n",
    "    for ano in years:\n",
    "        for rodada in rodadas:\n",
    "            file =\"C:\\\\Users\\\\Matheus\\\\Documents\\\\projetos_github\\\\AI\\\\cartola\\\\data\\\\\"+ano+\"_\"+rodada+\".xlsx\"\n",
    "            \n",
    "            print(f'read data {ano} {rodada}',end='\\r',flush=True)\n",
    "            try:\n",
    "                df = pd.read_excel(file)\n",
    "            except:\n",
    "                pass\n",
    "            \n",
    "            history = history.append(df)\n",
    "    return history"
   ]
  },
  {
   "cell_type": "code",
   "execution_count": 771,
   "metadata": {},
   "outputs": [],
   "source": [
    "def evaluate(model,test_features,test):\n",
    "    predictions = model.predict(test_features)\n",
    "    error =abs(test - predictions)\n",
    "    mae = round(np.mean(error),2)\n",
    "    return mae"
   ]
  },
  {
   "cell_type": "markdown",
   "metadata": {},
   "source": [
    "<h1 style=\"color:gray;\"> Code </h1>"
   ]
  },
  {
   "cell_type": "code",
   "execution_count": 54,
   "metadata": {},
   "outputs": [],
   "source": [
    "# Get teams information"
   ]
  },
  {
   "cell_type": "code",
   "execution_count": 591,
   "metadata": {},
   "outputs": [],
   "source": [
    "clubes = r.get('https://api.cartolafc.globo.com/clubes')"
   ]
  },
  {
   "cell_type": "code",
   "execution_count": 592,
   "metadata": {},
   "outputs": [],
   "source": [
    "clubes = clubes.json()"
   ]
  },
  {
   "cell_type": "code",
   "execution_count": 598,
   "metadata": {},
   "outputs": [
    {
     "data": {
      "text/plain": [
       "{'1': {'id': 1,\n",
       "  'nome': 'Outros',\n",
       "  'abreviacao': 'OUT',\n",
       "  'escudos': {'60x60': 'https://s.glbimg.com/es/sde/f/organizacoes/escudo_default_65x65.png',\n",
       "   '45x45': 'https://s.glbimg.com/es/sde/f/organizacoes/escudo_default_45x45.png',\n",
       "   '30x30': 'https://s.glbimg.com/es/sde/f/organizacoes/escudo_default_30x30.png'},\n",
       "  'nome_fantasia': 'Outros'},\n",
       " '1349': {'id': 1349,\n",
       "  'nome': 'Ipatinga',\n",
       "  'abreviacao': 'IPA',\n",
       "  'escudos': {'60x60': 'https://s.glbimg.com/es/sde/f/organizacoes/escudo_default_65x65.png',\n",
       "   '45x45': 'https://s.glbimg.com/es/sde/f/organizacoes/escudo_default_45x45.png',\n",
       "   '30x30': 'https://s.glbimg.com/es/sde/f/organizacoes/escudo_default_30x30.png'},\n",
       "  'nome_fantasia': 'Ipatinga'},\n",
       " '1371': {'id': 1371,\n",
       "  'nome': 'Cuiabá',\n",
       "  'abreviacao': 'CUI',\n",
       "  'escudos': {'60x60': 'https://s.glbimg.com/es/sde/f/organizacoes/escudo_default_65x65.png',\n",
       "   '45x45': 'https://s.glbimg.com/es/sde/f/organizacoes/escudo_default_45x45.png',\n",
       "   '30x30': 'https://s.glbimg.com/es/sde/f/organizacoes/escudo_default_30x30.png'},\n",
       "  'nome_fantasia': 'Cuiabá'},\n",
       " '1390': {'id': 1390,\n",
       "  'nome': 'Icasa',\n",
       "  'abreviacao': 'ICA',\n",
       "  'escudos': {'60x60': 'https://s.glbimg.com/es/sde/f/organizacoes/escudo_default_65x65.png',\n",
       "   '45x45': 'https://s.glbimg.com/es/sde/f/organizacoes/escudo_default_45x45.png',\n",
       "   '30x30': 'https://s.glbimg.com/es/sde/f/organizacoes/escudo_default_30x30.png'},\n",
       "  'nome_fantasia': 'Icasa'},\n",
       " '2190': {'id': 2190,\n",
       "  'nome': 'Oeste',\n",
       "  'abreviacao': 'OES',\n",
       "  'escudos': {'60x60': 'https://s.glbimg.com/es/sde/f/organizacoes/escudo_default_65x65.png',\n",
       "   '45x45': 'https://s.glbimg.com/es/sde/f/organizacoes/escudo_default_45x45.png',\n",
       "   '30x30': 'https://s.glbimg.com/es/sde/f/organizacoes/escudo_default_30x30.png'},\n",
       "  'nome_fantasia': 'Oeste'},\n",
       " '2193': {'id': 2193,\n",
       "  'nome': 'Duque de Caxias',\n",
       "  'abreviacao': 'DUQ',\n",
       "  'escudos': {'60x60': 'https://s.glbimg.com/es/sde/f/organizacoes/escudo_default_65x65.png',\n",
       "   '45x45': 'https://s.glbimg.com/es/sde/f/organizacoes/escudo_default_45x45.png',\n",
       "   '30x30': 'https://s.glbimg.com/es/sde/f/organizacoes/escudo_default_30x30.png'},\n",
       "  'nome_fantasia': 'Duque de Caxias'},\n",
       " '2197': {'id': 2197,\n",
       "  'nome': 'Americana',\n",
       "  'abreviacao': 'AME',\n",
       "  'escudos': {'60x60': 'https://s.glbimg.com/es/sde/f/organizacoes/escudo_default_65x65.png',\n",
       "   '45x45': 'https://s.glbimg.com/es/sde/f/organizacoes/escudo_default_45x45.png',\n",
       "   '30x30': 'https://s.glbimg.com/es/sde/f/organizacoes/escudo_default_30x30.png'},\n",
       "  'nome_fantasia': 'Americana'},\n",
       " '2554': {'id': 2554,\n",
       "  'nome': 'Grêmio Prudente',\n",
       "  'abreviacao': 'PRU',\n",
       "  'escudos': {'60x60': 'https://s.glbimg.com/es/sde/f/organizacoes/escudo_default_65x65.png',\n",
       "   '45x45': 'https://s.glbimg.com/es/sde/f/organizacoes/escudo_default_45x45.png',\n",
       "   '30x30': 'https://s.glbimg.com/es/sde/f/organizacoes/escudo_default_30x30.png'},\n",
       "  'nome_fantasia': 'Grêmio Prudente'},\n",
       " '2565': {'id': 2565,\n",
       "  'nome': 'Luverdense',\n",
       "  'abreviacao': 'LUV',\n",
       "  'escudos': {'60x60': 'https://s.glbimg.com/es/sde/f/organizacoes/escudo_default_65x65.png',\n",
       "   '45x45': 'https://s.glbimg.com/es/sde/f/organizacoes/escudo_default_45x45.png',\n",
       "   '30x30': 'https://s.glbimg.com/es/sde/f/organizacoes/escudo_default_30x30.png'},\n",
       "  'nome_fantasia': 'Luverdense'},\n",
       " '262': {'id': 262,\n",
       "  'nome': 'Flamengo',\n",
       "  'abreviacao': 'FLA',\n",
       "  'escudos': {'60x60': 'https://s.glbimg.com/es/sde/f/organizacoes/2018/04/09/Flamengo-65.png',\n",
       "   '45x45': 'https://s.glbimg.com/es/sde/f/organizacoes/2018/04/09/Flamengo-45.png',\n",
       "   '30x30': 'https://s.glbimg.com/es/sde/f/organizacoes/2018/04/09/Flamengo-30.png'},\n",
       "  'nome_fantasia': 'Flamengo'},\n",
       " '263': {'id': 263,\n",
       "  'nome': 'Botafogo',\n",
       "  'abreviacao': 'BOT',\n",
       "  'escudos': {'60x60': 'https://s.glbimg.com/es/sde/f/organizacoes/2019/02/04/botafogo-65.png',\n",
       "   '45x45': 'https://s.glbimg.com/es/sde/f/organizacoes/2019/02/04/botafogo-45.png',\n",
       "   '30x30': 'https://s.glbimg.com/es/sde/f/organizacoes/2019/02/04/botafogo-30.png'},\n",
       "  'nome_fantasia': 'Botafogo'},\n",
       " '264': {'id': 264,\n",
       "  'nome': 'Corinthians',\n",
       "  'abreviacao': 'COR',\n",
       "  'escudos': {'60x60': 'https://s.glbimg.com/es/sde/f/organizacoes/2019/09/30/Corinthians_65.png',\n",
       "   '45x45': 'https://s.glbimg.com/es/sde/f/organizacoes/2019/09/30/Corinthians_45.png',\n",
       "   '30x30': 'https://s.glbimg.com/es/sde/f/organizacoes/2019/09/30/Corinthians_30.png'},\n",
       "  'nome_fantasia': 'Corinthians'},\n",
       " '265': {'id': 265,\n",
       "  'nome': 'Bahia',\n",
       "  'abreviacao': 'BAH',\n",
       "  'escudos': {'60x60': 'https://s.glbimg.com/es/sde/f/organizacoes/2014/04/14/bahia_60x60.png',\n",
       "   '45x45': 'https://s.glbimg.com/es/sde/f/organizacoes/2014/04/14/bahia_45x45.png',\n",
       "   '30x30': 'https://s.glbimg.com/es/sde/f/organizacoes/2014/04/14/bahia_30x30.png'},\n",
       "  'nome_fantasia': 'Bahia'},\n",
       " '266': {'id': 266,\n",
       "  'nome': 'Fluminense',\n",
       "  'abreviacao': 'FLU',\n",
       "  'escudos': {'60x60': 'https://s.glbimg.com/es/sde/f/organizacoes/2014/04/14/fluminense_60x60.png',\n",
       "   '45x45': 'https://s.glbimg.com/es/sde/f/organizacoes/2014/04/14/fluminense_45x45.png',\n",
       "   '30x30': 'https://s.glbimg.com/es/sde/f/organizacoes/2015/01/12/Fluminense-escudo.png'},\n",
       "  'nome_fantasia': 'Fluminense'},\n",
       " '267': {'id': 267,\n",
       "  'nome': 'Vasco',\n",
       "  'abreviacao': 'VAS',\n",
       "  'escudos': {'60x60': 'https://s.glbimg.com/es/sde/f/organizacoes/2016/07/29/Vasco-65.png',\n",
       "   '45x45': 'https://s.glbimg.com/es/sde/f/organizacoes/2016/07/29/Vasco-45.png',\n",
       "   '30x30': 'https://s.glbimg.com/es/sde/f/organizacoes/2016/07/29/Vasco-30.png'},\n",
       "  'nome_fantasia': 'Vasco'},\n",
       " '275': {'id': 275,\n",
       "  'nome': 'Palmeiras',\n",
       "  'abreviacao': 'PAL',\n",
       "  'escudos': {'60x60': 'https://s.glbimg.com/es/sde/f/organizacoes/2014/04/14/palmeiras_60x60.png',\n",
       "   '45x45': 'https://s.glbimg.com/es/sde/f/organizacoes/2014/04/14/palmeiras_45x45.png',\n",
       "   '30x30': 'https://s.glbimg.com/es/sde/f/organizacoes/2014/04/14/palmeiras_30x30.png'},\n",
       "  'nome_fantasia': 'Palmeiras'},\n",
       " '276': {'id': 276,\n",
       "  'nome': 'São Paulo',\n",
       "  'abreviacao': 'SAO',\n",
       "  'escudos': {'60x60': 'https://s.glbimg.com/es/sde/f/organizacoes/2014/04/14/sao_paulo_60x60.png',\n",
       "   '45x45': 'https://s.glbimg.com/es/sde/f/organizacoes/2014/04/14/sao_paulo_45x45.png',\n",
       "   '30x30': 'https://s.glbimg.com/es/sde/f/organizacoes/2014/04/14/sao_paulo_30x30.png'},\n",
       "  'nome_fantasia': 'São Paulo'},\n",
       " '277': {'id': 277,\n",
       "  'nome': 'Santos',\n",
       "  'abreviacao': 'SAN',\n",
       "  'escudos': {'60x60': 'https://s.glbimg.com/es/sde/f/organizacoes/2014/04/14/santos_60x60.png',\n",
       "   '45x45': 'https://s.glbimg.com/es/sde/f/organizacoes/2014/04/14/santos_45x45.png',\n",
       "   '30x30': 'https://s.glbimg.com/es/sde/f/organizacoes/2014/04/14/santos_30x30.png'},\n",
       "  'nome_fantasia': 'Santos'},\n",
       " '278': {'id': 278,\n",
       "  'nome': 'Portuguesa',\n",
       "  'abreviacao': 'POR',\n",
       "  'escudos': {'60x60': 'https://s.glbimg.com/es/sde/f/organizacoes/escudo_default_65x65.png',\n",
       "   '45x45': 'https://s.glbimg.com/es/sde/f/organizacoes/escudo_default_45x45.png',\n",
       "   '30x30': 'https://s.glbimg.com/es/sde/f/organizacoes/escudo_default_30x30.png'},\n",
       "  'nome_fantasia': 'Portuguesa'},\n",
       " '279': {'id': 279,\n",
       "  'nome': 'Guarani',\n",
       "  'abreviacao': 'GUA',\n",
       "  'escudos': {'60x60': 'https://s.glbimg.com/es/sde/f/organizacoes/escudo_default_65x65.png',\n",
       "   '45x45': 'https://s.glbimg.com/es/sde/f/organizacoes/escudo_default_45x45.png',\n",
       "   '30x30': 'https://s.glbimg.com/es/sde/f/organizacoes/escudo_default_30x30.png'},\n",
       "  'nome_fantasia': 'Guarani'},\n",
       " '280': {'id': 280,\n",
       "  'nome': 'Bragantino',\n",
       "  'abreviacao': 'BGT',\n",
       "  'escudos': {'60x60': 'https://s.glbimg.com/es/sde/f/organizacoes/2020/01/01/65.png',\n",
       "   '45x45': 'https://s.glbimg.com/es/sde/f/organizacoes/2020/01/01/45.png',\n",
       "   '30x30': 'https://s.glbimg.com/es/sde/f/organizacoes/2020/01/01/30.png'},\n",
       "  'nome_fantasia': 'Bragantino'},\n",
       " '282': {'id': 282,\n",
       "  'nome': 'Atlético-MG',\n",
       "  'abreviacao': 'ATL',\n",
       "  'escudos': {'60x60': 'https://s.glbimg.com/es/sde/f/organizacoes/2017/11/23/Atletico-Mineiro-escudo65px.png',\n",
       "   '45x45': 'https://s.glbimg.com/es/sde/f/organizacoes/2017/11/23/Atletico-Mineiro-escudo45px.png',\n",
       "   '30x30': 'https://s.glbimg.com/es/sde/f/organizacoes/2017/11/23/Atletico-Mineiro-escudo30px.png'},\n",
       "  'nome_fantasia': 'Atlético-MG'},\n",
       " '283': {'id': 283,\n",
       "  'nome': 'Cruzeiro',\n",
       "  'abreviacao': 'CRU',\n",
       "  'escudos': {'60x60': 'https://s.glbimg.com/es/sde/f/organizacoes/escudo_default_65x65.png',\n",
       "   '45x45': 'https://s.glbimg.com/es/sde/f/organizacoes/escudo_default_45x45.png',\n",
       "   '30x30': 'https://s.glbimg.com/es/sde/f/organizacoes/escudo_default_30x30.png'},\n",
       "  'nome_fantasia': 'Cruzeiro'},\n",
       " '284': {'id': 284,\n",
       "  'nome': 'Grêmio',\n",
       "  'abreviacao': 'GRE',\n",
       "  'escudos': {'60x60': 'https://s.glbimg.com/es/sde/f/organizacoes/2014/04/14/gremio_60x60.png',\n",
       "   '45x45': 'https://s.glbimg.com/es/sde/f/organizacoes/2014/04/14/gremio_45x45.png',\n",
       "   '30x30': 'https://s.glbimg.com/es/sde/f/organizacoes/2014/04/14/gremio_30x30.png'},\n",
       "  'nome_fantasia': 'Grêmio'},\n",
       " '285': {'id': 285,\n",
       "  'nome': 'Internacional',\n",
       "  'abreviacao': 'INT',\n",
       "  'escudos': {'60x60': 'https://s.glbimg.com/es/sde/f/organizacoes/2016/05/03/inter65.png',\n",
       "   '45x45': 'https://s.glbimg.com/es/sde/f/organizacoes/2016/05/03/inter45.png',\n",
       "   '30x30': 'https://s.glbimg.com/es/sde/f/organizacoes/2016/05/03/inter30.png'},\n",
       "  'nome_fantasia': 'Internacional'},\n",
       " '286': {'id': 286,\n",
       "  'nome': 'Juventude',\n",
       "  'abreviacao': 'JUV',\n",
       "  'escudos': {'60x60': 'https://s.glbimg.com/es/sde/f/organizacoes/escudo_default_65x65.png',\n",
       "   '45x45': 'https://s.glbimg.com/es/sde/f/organizacoes/escudo_default_45x45.png',\n",
       "   '30x30': 'https://s.glbimg.com/es/sde/f/organizacoes/escudo_default_30x30.png'},\n",
       "  'nome_fantasia': 'Juventude'},\n",
       " '287': {'id': 287,\n",
       "  'nome': 'Vitória',\n",
       "  'abreviacao': 'VIT',\n",
       "  'escudos': {'60x60': 'https://s.glbimg.com/es/sde/f/organizacoes/escudo_default_65x65.png',\n",
       "   '45x45': 'https://s.glbimg.com/es/sde/f/organizacoes/escudo_default_45x45.png',\n",
       "   '30x30': 'https://s.glbimg.com/es/sde/f/organizacoes/escudo_default_30x30.png'},\n",
       "  'nome_fantasia': 'Vitória'},\n",
       " '288': {'id': 288,\n",
       "  'nome': 'Criciúma',\n",
       "  'abreviacao': 'CRI',\n",
       "  'escudos': {'60x60': 'https://s.glbimg.com/es/sde/f/organizacoes/escudo_default_65x65.png',\n",
       "   '45x45': 'https://s.glbimg.com/es/sde/f/organizacoes/escudo_default_45x45.png',\n",
       "   '30x30': 'https://s.glbimg.com/es/sde/f/organizacoes/escudo_default_30x30.png'},\n",
       "  'nome_fantasia': 'Criciúma'},\n",
       " '289': {'id': 289,\n",
       "  'nome': 'Paraná',\n",
       "  'abreviacao': 'PAR',\n",
       "  'escudos': {'60x60': 'https://s.glbimg.com/es/sde/f/organizacoes/escudo_default_65x65.png',\n",
       "   '45x45': 'https://s.glbimg.com/es/sde/f/organizacoes/escudo_default_45x45.png',\n",
       "   '30x30': 'https://s.glbimg.com/es/sde/f/organizacoes/escudo_default_30x30.png'},\n",
       "  'nome_fantasia': 'Paraná'},\n",
       " '290': {'id': 290,\n",
       "  'nome': 'Goiás',\n",
       "  'abreviacao': 'GOI',\n",
       "  'escudos': {'60x60': 'https://s.glbimg.com/es/sde/f/organizacoes/2019/05/01/Goias_65px.png',\n",
       "   '45x45': 'https://s.glbimg.com/es/sde/f/organizacoes/2019/05/01/Goias_45px.png',\n",
       "   '30x30': 'https://s.glbimg.com/es/sde/f/organizacoes/2019/05/01/Goias_30px.png'},\n",
       "  'nome_fantasia': 'Goiás'},\n",
       " '291': {'id': 291,\n",
       "  'nome': 'Paysandu',\n",
       "  'abreviacao': 'PAY',\n",
       "  'escudos': {'60x60': 'https://s.glbimg.com/es/sde/f/organizacoes/escudo_default_65x65.png',\n",
       "   '45x45': 'https://s.glbimg.com/es/sde/f/organizacoes/escudo_default_45x45.png',\n",
       "   '30x30': 'https://s.glbimg.com/es/sde/f/organizacoes/escudo_default_30x30.png'},\n",
       "  'nome_fantasia': 'Paysandu'},\n",
       " '292': {'id': 292,\n",
       "  'nome': 'Sport',\n",
       "  'abreviacao': 'SPO',\n",
       "  'escudos': {'60x60': 'https://s.glbimg.com/es/sde/f/organizacoes/2015/07/21/sport65.png',\n",
       "   '45x45': 'https://s.glbimg.com/es/sde/f/organizacoes/2015/07/21/sport45.png',\n",
       "   '30x30': 'https://s.glbimg.com/es/sde/f/organizacoes/2015/07/21/sport30.png'},\n",
       "  'nome_fantasia': 'Sport'},\n",
       " '293': {'id': 293,\n",
       "  'nome': 'Athlético-PR',\n",
       "  'abreviacao': 'CAP',\n",
       "  'escudos': {'60x60': 'https://s.glbimg.com/es/sde/f/organizacoes/2019/09/09/Athletico-PR-65x65.png',\n",
       "   '45x45': 'https://s.glbimg.com/es/sde/f/organizacoes/2019/09/09/Athletico-PR-45x45.png',\n",
       "   '30x30': 'https://s.glbimg.com/es/sde/f/organizacoes/2019/09/09/Athletico-PR-30x30.png'},\n",
       "  'nome_fantasia': 'Athlético-PR'},\n",
       " '294': {'id': 294,\n",
       "  'nome': 'Coritiba',\n",
       "  'abreviacao': 'CFC',\n",
       "  'escudos': {'60x60': 'https://s.glbimg.com/es/sde/f/organizacoes/2017/03/29/coritiba65.png',\n",
       "   '45x45': 'https://s.glbimg.com/es/sde/f/organizacoes/2017/03/29/coritiba45.png',\n",
       "   '30x30': 'https://s.glbimg.com/es/sde/f/organizacoes/2017/03/29/coritiba30.png'},\n",
       "  'nome_fantasia': 'Coritiba'},\n",
       " '296': {'id': 296,\n",
       "  'nome': 'Botafogo-SP',\n",
       "  'abreviacao': 'BOT',\n",
       "  'escudos': {'60x60': 'https://s.glbimg.com/es/sde/f/organizacoes/escudo_default_65x65.png',\n",
       "   '45x45': 'https://s.glbimg.com/es/sde/f/organizacoes/escudo_default_45x45.png',\n",
       "   '30x30': 'https://s.glbimg.com/es/sde/f/organizacoes/escudo_default_30x30.png'},\n",
       "  'nome_fantasia': 'Botafogo-SP'},\n",
       " '303': {'id': 303,\n",
       "  'nome': 'Ponte Preta',\n",
       "  'abreviacao': 'PON',\n",
       "  'escudos': {'60x60': 'https://s.glbimg.com/es/sde/f/organizacoes/escudo_default_65x65.png',\n",
       "   '45x45': 'https://s.glbimg.com/es/sde/f/organizacoes/escudo_default_45x45.png',\n",
       "   '30x30': 'https://s.glbimg.com/es/sde/f/organizacoes/escudo_default_30x30.png'},\n",
       "  'nome_fantasia': 'Ponte Preta'},\n",
       " '3057': {'id': 3057,\n",
       "  'nome': 'Boa Esporte',\n",
       "  'abreviacao': 'BEC',\n",
       "  'escudos': {'60x60': 'https://s.glbimg.com/es/sde/f/organizacoes/escudo_default_65x65.png',\n",
       "   '45x45': 'https://s.glbimg.com/es/sde/f/organizacoes/escudo_default_45x45.png',\n",
       "   '30x30': 'https://s.glbimg.com/es/sde/f/organizacoes/escudo_default_30x30.png'},\n",
       "  'nome_fantasia': 'Boa Esporte'},\n",
       " '306': {'id': 306,\n",
       "  'nome': 'Santo André',\n",
       "  'abreviacao': 'SAN',\n",
       "  'escudos': {'60x60': 'https://s.glbimg.com/es/sde/f/organizacoes/escudo_default_65x65.png',\n",
       "   '45x45': 'https://s.glbimg.com/es/sde/f/organizacoes/escudo_default_45x45.png',\n",
       "   '30x30': 'https://s.glbimg.com/es/sde/f/organizacoes/escudo_default_30x30.png'},\n",
       "  'nome_fantasia': 'Santo André'},\n",
       " '307': {'id': 307,\n",
       "  'nome': 'São Bento',\n",
       "  'abreviacao': 'SBE',\n",
       "  'escudos': {'60x60': 'https://s.glbimg.com/es/sde/f/organizacoes/escudo_default_65x65.png',\n",
       "   '45x45': 'https://s.glbimg.com/es/sde/f/organizacoes/escudo_default_45x45.png',\n",
       "   '30x30': 'https://s.glbimg.com/es/sde/f/organizacoes/escudo_default_30x30.png'},\n",
       "  'nome_fantasia': 'São Bento'},\n",
       " '309': {'id': 309,\n",
       "  'nome': 'Brasil de Pelotas',\n",
       "  'abreviacao': 'BRA',\n",
       "  'escudos': {'60x60': 'https://s.glbimg.com/es/sde/f/organizacoes/escudo_default_65x65.png',\n",
       "   '45x45': 'https://s.glbimg.com/es/sde/f/organizacoes/escudo_default_45x45.png',\n",
       "   '30x30': 'https://s.glbimg.com/es/sde/f/organizacoes/escudo_default_30x30.png'},\n",
       "  'nome_fantasia': 'Brasil de Pelotas'},\n",
       " '314': {'id': 314,\n",
       "  'nome': 'Avaí',\n",
       "  'abreviacao': 'AVA',\n",
       "  'escudos': {'60x60': 'https://s.glbimg.com/es/sde/f/organizacoes/escudo_default_65x65.png',\n",
       "   '45x45': 'https://s.glbimg.com/es/sde/f/organizacoes/escudo_default_45x45.png',\n",
       "   '30x30': 'https://s.glbimg.com/es/sde/f/organizacoes/escudo_default_30x30.png'},\n",
       "  'nome_fantasia': 'Avaí'},\n",
       " '315': {'id': 315,\n",
       "  'nome': 'Chapecoense',\n",
       "  'abreviacao': 'CHA',\n",
       "  'escudos': {'60x60': 'https://s.glbimg.com/es/sde/f/organizacoes/escudo_default_65x65.png',\n",
       "   '45x45': 'https://s.glbimg.com/es/sde/f/organizacoes/escudo_default_45x45.png',\n",
       "   '30x30': 'https://s.glbimg.com/es/sde/f/organizacoes/escudo_default_30x30.png'},\n",
       "  'nome_fantasia': 'Chapecoense'},\n",
       " '316': {'id': 316,\n",
       "  'nome': 'Figueirense',\n",
       "  'abreviacao': 'FIG',\n",
       "  'escudos': {'60x60': 'https://s.glbimg.com/es/sde/f/organizacoes/escudo_default_65x65.png',\n",
       "   '45x45': 'https://s.glbimg.com/es/sde/f/organizacoes/escudo_default_45x45.png',\n",
       "   '30x30': 'https://s.glbimg.com/es/sde/f/organizacoes/escudo_default_30x30.png'},\n",
       "  'nome_fantasia': 'Figueirense'},\n",
       " '317': {'id': 317,\n",
       "  'nome': 'Joinville',\n",
       "  'abreviacao': 'JEC',\n",
       "  'escudos': {'60x60': 'https://s.glbimg.com/es/sde/f/organizacoes/escudo_default_65x65.png',\n",
       "   '45x45': 'https://s.glbimg.com/es/sde/f/organizacoes/escudo_default_45x45.png',\n",
       "   '30x30': 'https://s.glbimg.com/es/sde/f/organizacoes/escudo_default_30x30.png'},\n",
       "  'nome_fantasia': 'Joinville'},\n",
       " '319': {'id': 319,\n",
       "  'nome': 'Londrina',\n",
       "  'abreviacao': 'LON',\n",
       "  'escudos': {'60x60': 'https://s.glbimg.com/es/sde/f/organizacoes/escudo_default_65x65.png',\n",
       "   '45x45': 'https://s.glbimg.com/es/sde/f/organizacoes/escudo_default_45x45.png',\n",
       "   '30x30': 'https://s.glbimg.com/es/sde/f/organizacoes/escudo_default_30x30.png'},\n",
       "  'nome_fantasia': 'Londrina'},\n",
       " '321': {'id': 321,\n",
       "  'nome': 'Operário-PR',\n",
       "  'abreviacao': 'OPE',\n",
       "  'escudos': {'60x60': 'https://s.glbimg.com/es/sde/f/organizacoes/escudo_default_65x65.png',\n",
       "   '45x45': 'https://s.glbimg.com/es/sde/f/organizacoes/escudo_default_45x45.png',\n",
       "   '30x30': 'https://s.glbimg.com/es/sde/f/organizacoes/escudo_default_30x30.png'},\n",
       "  'nome_fantasia': 'Operário-PR'},\n",
       " '327': {'id': 327,\n",
       "  'nome': 'América-MG',\n",
       "  'abreviacao': 'AME',\n",
       "  'escudos': {'60x60': 'https://s.glbimg.com/es/sde/f/organizacoes/escudo_default_65x65.png',\n",
       "   '45x45': 'https://s.glbimg.com/es/sde/f/organizacoes/escudo_default_45x45.png',\n",
       "   '30x30': 'https://s.glbimg.com/es/sde/f/organizacoes/escudo_default_30x30.png'},\n",
       "  'nome_fantasia': 'América-MG'},\n",
       " '337': {'id': 337,\n",
       "  'nome': 'Confiança',\n",
       "  'abreviacao': 'CON',\n",
       "  'escudos': {'60x60': 'https://s.glbimg.com/es/sde/f/organizacoes/escudo_default_65x65.png',\n",
       "   '45x45': 'https://s.glbimg.com/es/sde/f/organizacoes/escudo_default_45x45.png',\n",
       "   '30x30': 'https://s.glbimg.com/es/sde/f/organizacoes/escudo_default_30x30.png'},\n",
       "  'nome_fantasia': 'Confiança'},\n",
       " '340': {'id': 340,\n",
       "  'nome': 'CRB',\n",
       "  'abreviacao': 'CRB',\n",
       "  'escudos': {'60x60': 'https://s.glbimg.com/es/sde/f/organizacoes/escudo_default_65x65.png',\n",
       "   '45x45': 'https://s.glbimg.com/es/sde/f/organizacoes/escudo_default_45x45.png',\n",
       "   '30x30': 'https://s.glbimg.com/es/sde/f/organizacoes/escudo_default_30x30.png'},\n",
       "  'nome_fantasia': 'CRB'},\n",
       " '341': {'id': 341,\n",
       "  'nome': 'CSA',\n",
       "  'abreviacao': 'CSA',\n",
       "  'escudos': {'60x60': 'https://s.glbimg.com/es/sde/f/organizacoes/escudo_default_65x65.png',\n",
       "   '45x45': 'https://s.glbimg.com/es/sde/f/organizacoes/escudo_default_45x45.png',\n",
       "   '30x30': 'https://s.glbimg.com/es/sde/f/organizacoes/escudo_default_30x30.png'},\n",
       "  'nome_fantasia': 'CSA'},\n",
       " '342': {'id': 342,\n",
       "  'nome': 'ASA Arapiraca',\n",
       "  'abreviacao': 'ASA',\n",
       "  'escudos': {'60x60': 'https://s.glbimg.com/es/sde/f/organizacoes/escudo_default_65x65.png',\n",
       "   '45x45': 'https://s.glbimg.com/es/sde/f/organizacoes/escudo_default_45x45.png',\n",
       "   '30x30': 'https://s.glbimg.com/es/sde/f/organizacoes/escudo_default_30x30.png'},\n",
       "  'nome_fantasia': 'ASA Arapiraca'},\n",
       " '343': {'id': 343,\n",
       "  'nome': 'Náutico',\n",
       "  'abreviacao': 'NAU',\n",
       "  'escudos': {'60x60': 'https://s.glbimg.com/es/sde/f/organizacoes/escudo_default_65x65.png',\n",
       "   '45x45': 'https://s.glbimg.com/es/sde/f/organizacoes/escudo_default_45x45.png',\n",
       "   '30x30': 'https://s.glbimg.com/es/sde/f/organizacoes/escudo_default_30x30.png'},\n",
       "  'nome_fantasia': 'Náutico'},\n",
       " '344': {'id': 344,\n",
       "  'nome': 'Santa Cruz',\n",
       "  'abreviacao': 'STC',\n",
       "  'escudos': {'60x60': 'https://s.glbimg.com/es/sde/f/organizacoes/escudo_default_65x65.png',\n",
       "   '45x45': 'https://s.glbimg.com/es/sde/f/organizacoes/escudo_default_45x45.png',\n",
       "   '30x30': 'https://s.glbimg.com/es/sde/f/organizacoes/escudo_default_30x30.png'},\n",
       "  'nome_fantasia': 'Santa Cruz'},\n",
       " '346': {'id': 346,\n",
       "  'nome': 'Treze',\n",
       "  'abreviacao': 'TRZ',\n",
       "  'escudos': {'60x60': 'https://s.glbimg.com/es/sde/f/organizacoes/escudo_default_65x65.png',\n",
       "   '45x45': 'https://s.glbimg.com/es/sde/f/organizacoes/escudo_default_45x45.png',\n",
       "   '30x30': 'https://s.glbimg.com/es/sde/f/organizacoes/escudo_default_30x30.png'},\n",
       "  'nome_fantasia': 'Treze'},\n",
       " '347': {'id': 347,\n",
       "  'nome': 'Botafogo-PB',\n",
       "  'abreviacao': 'BOT',\n",
       "  'escudos': {'60x60': 'https://s.glbimg.com/es/sde/f/organizacoes/escudo_default_65x65.png',\n",
       "   '45x45': 'https://s.glbimg.com/es/sde/f/organizacoes/escudo_default_45x45.png',\n",
       "   '30x30': 'https://s.glbimg.com/es/sde/f/organizacoes/escudo_default_30x30.png'},\n",
       "  'nome_fantasia': 'Botafogo-PB'},\n",
       " '349': {'id': 349,\n",
       "  'nome': 'Campinense',\n",
       "  'abreviacao': 'CAM',\n",
       "  'escudos': {'60x60': 'https://s.glbimg.com/es/sde/f/organizacoes/escudo_default_65x65.png',\n",
       "   '45x45': 'https://s.glbimg.com/es/sde/f/organizacoes/escudo_default_45x45.png',\n",
       "   '30x30': 'https://s.glbimg.com/es/sde/f/organizacoes/escudo_default_30x30.png'},\n",
       "  'nome_fantasia': 'Campinense'},\n",
       " '350': {'id': 350,\n",
       "  'nome': 'ABC',\n",
       "  'abreviacao': 'ABC',\n",
       "  'escudos': {'60x60': 'https://s.glbimg.com/es/sde/f/organizacoes/escudo_default_65x65.png',\n",
       "   '45x45': 'https://s.glbimg.com/es/sde/f/organizacoes/escudo_default_45x45.png',\n",
       "   '30x30': 'https://s.glbimg.com/es/sde/f/organizacoes/escudo_default_30x30.png'},\n",
       "  'nome_fantasia': 'ABC'},\n",
       " '351': {'id': 351,\n",
       "  'nome': 'América-RN',\n",
       "  'abreviacao': 'AME',\n",
       "  'escudos': {'60x60': 'https://s.glbimg.com/es/sde/f/organizacoes/escudo_default_65x65.png',\n",
       "   '45x45': 'https://s.glbimg.com/es/sde/f/organizacoes/escudo_default_45x45.png',\n",
       "   '30x30': 'https://s.glbimg.com/es/sde/f/organizacoes/escudo_default_30x30.png'},\n",
       "  'nome_fantasia': 'América-RN'},\n",
       " '354': {'id': 354,\n",
       "  'nome': 'Ceará',\n",
       "  'abreviacao': 'CEA',\n",
       "  'escudos': {'60x60': 'https://s.glbimg.com/es/sde/f/organizacoes/2019/10/10/ceara-65x65.png',\n",
       "   '45x45': 'https://s.glbimg.com/es/sde/f/organizacoes/2019/10/10/ceara-45x45.png',\n",
       "   '30x30': 'https://s.glbimg.com/es/sde/f/organizacoes/2019/10/10/ceara-30x30.png'},\n",
       "  'nome_fantasia': 'Ceará'},\n",
       " '356': {'id': 356,\n",
       "  'nome': 'Fortaleza',\n",
       "  'abreviacao': 'FOR',\n",
       "  'escudos': {'60x60': 'https://s.glbimg.com/es/sde/f/organizacoes/2018/06/10/fortaleza-ec-65px.png',\n",
       "   '45x45': 'https://s.glbimg.com/es/sde/f/organizacoes/2018/06/10/fortaleza-ec-45px.png',\n",
       "   '30x30': 'https://s.glbimg.com/es/sde/f/organizacoes/2018/06/10/fortaleza-ec-30px.png'},\n",
       "  'nome_fantasia': 'Fortaleza'},\n",
       " '362': {'id': 362,\n",
       "  'nome': 'Moto Club',\n",
       "  'abreviacao': 'MOT',\n",
       "  'escudos': {'60x60': 'https://s.glbimg.com/es/sde/f/organizacoes/escudo_default_65x65.png',\n",
       "   '45x45': 'https://s.glbimg.com/es/sde/f/organizacoes/escudo_default_45x45.png',\n",
       "   '30x30': 'https://s.glbimg.com/es/sde/f/organizacoes/escudo_default_30x30.png'},\n",
       "  'nome_fantasia': 'Moto Club'},\n",
       " '363': {'id': 363,\n",
       "  'nome': 'Sampaio Corrêa',\n",
       "  'abreviacao': 'SAM',\n",
       "  'escudos': {'60x60': 'https://s.glbimg.com/es/sde/f/organizacoes/escudo_default_65x65.png',\n",
       "   '45x45': 'https://s.glbimg.com/es/sde/f/organizacoes/escudo_default_45x45.png',\n",
       "   '30x30': 'https://s.glbimg.com/es/sde/f/organizacoes/escudo_default_30x30.png'},\n",
       "  'nome_fantasia': 'Sampaio Corrêa'},\n",
       " '364': {'id': 364,\n",
       "  'nome': 'Remo',\n",
       "  'abreviacao': 'REM',\n",
       "  'escudos': {'60x60': 'https://s.glbimg.com/es/sde/f/organizacoes/escudo_default_65x65.png',\n",
       "   '45x45': 'https://s.glbimg.com/es/sde/f/organizacoes/escudo_default_45x45.png',\n",
       "   '30x30': 'https://s.glbimg.com/es/sde/f/organizacoes/escudo_default_30x30.png'},\n",
       "  'nome_fantasia': 'Remo'},\n",
       " '373': {'id': 373,\n",
       "  'nome': 'Atlético-GO',\n",
       "  'abreviacao': 'ACG',\n",
       "  'escudos': {'60x60': 'https://s.glbimg.com/es/sde/f/organizacoes/2020/07/02/atletico-go-2020-65.png',\n",
       "   '45x45': 'https://s.glbimg.com/es/sde/f/organizacoes/2020/07/02/atletico-go-2020-45.png',\n",
       "   '30x30': 'https://s.glbimg.com/es/sde/f/organizacoes/2020/07/02/atletico-go-2020-30.png'},\n",
       "  'nome_fantasia': 'Atlético-GO'},\n",
       " '375': {'id': 375,\n",
       "  'nome': 'Vila Nova',\n",
       "  'abreviacao': 'VIL',\n",
       "  'escudos': {'60x60': 'https://s.glbimg.com/es/sde/f/organizacoes/escudo_default_65x65.png',\n",
       "   '45x45': 'https://s.glbimg.com/es/sde/f/organizacoes/escudo_default_45x45.png',\n",
       "   '30x30': 'https://s.glbimg.com/es/sde/f/organizacoes/escudo_default_30x30.png'},\n",
       "  'nome_fantasia': 'Vila Nova'},\n",
       " '386': {'id': 386,\n",
       "  'nome': 'São Caetano',\n",
       "  'abreviacao': 'SAO',\n",
       "  'escudos': {'60x60': 'https://s.glbimg.com/es/sde/f/organizacoes/escudo_default_65x65.png',\n",
       "   '45x45': 'https://s.glbimg.com/es/sde/f/organizacoes/escudo_default_45x45.png',\n",
       "   '30x30': 'https://s.glbimg.com/es/sde/f/organizacoes/escudo_default_30x30.png'},\n",
       "  'nome_fantasia': 'São Caetano'},\n",
       " '388': {'id': 388,\n",
       "  'nome': 'Brasiliense',\n",
       "  'abreviacao': 'BRA',\n",
       "  'escudos': {'60x60': 'https://s.glbimg.com/es/sde/f/organizacoes/escudo_default_65x65.png',\n",
       "   '45x45': 'https://s.glbimg.com/es/sde/f/organizacoes/escudo_default_45x45.png',\n",
       "   '30x30': 'https://s.glbimg.com/es/sde/f/organizacoes/escudo_default_30x30.png'},\n",
       "  'nome_fantasia': 'Brasiliense'}}"
      ]
     },
     "execution_count": 598,
     "metadata": {},
     "output_type": "execute_result"
    }
   ],
   "source": [
    "clubes"
   ]
  },
  {
   "cell_type": "code",
   "execution_count": 609,
   "metadata": {},
   "outputs": [
    {
     "data": {
      "text/html": [
       "<div>\n",
       "<style scoped>\n",
       "    .dataframe tbody tr th:only-of-type {\n",
       "        vertical-align: middle;\n",
       "    }\n",
       "\n",
       "    .dataframe tbody tr th {\n",
       "        vertical-align: top;\n",
       "    }\n",
       "\n",
       "    .dataframe thead th {\n",
       "        text-align: right;\n",
       "    }\n",
       "</style>\n",
       "<table border=\"1\" class=\"dataframe\">\n",
       "  <thead>\n",
       "    <tr style=\"text-align: right;\">\n",
       "      <th></th>\n",
       "      <th>1</th>\n",
       "      <th>1349</th>\n",
       "      <th>1371</th>\n",
       "      <th>1390</th>\n",
       "      <th>2190</th>\n",
       "      <th>2193</th>\n",
       "      <th>2197</th>\n",
       "      <th>2554</th>\n",
       "      <th>2565</th>\n",
       "      <th>262</th>\n",
       "      <th>...</th>\n",
       "      <th>351</th>\n",
       "      <th>354</th>\n",
       "      <th>356</th>\n",
       "      <th>362</th>\n",
       "      <th>363</th>\n",
       "      <th>364</th>\n",
       "      <th>373</th>\n",
       "      <th>375</th>\n",
       "      <th>386</th>\n",
       "      <th>388</th>\n",
       "    </tr>\n",
       "  </thead>\n",
       "  <tbody>\n",
       "    <tr>\n",
       "      <th>id</th>\n",
       "      <td>1</td>\n",
       "      <td>1349</td>\n",
       "      <td>1371</td>\n",
       "      <td>1390</td>\n",
       "      <td>2190</td>\n",
       "      <td>2193</td>\n",
       "      <td>2197</td>\n",
       "      <td>2554</td>\n",
       "      <td>2565</td>\n",
       "      <td>262</td>\n",
       "      <td>...</td>\n",
       "      <td>351</td>\n",
       "      <td>354</td>\n",
       "      <td>356</td>\n",
       "      <td>362</td>\n",
       "      <td>363</td>\n",
       "      <td>364</td>\n",
       "      <td>373</td>\n",
       "      <td>375</td>\n",
       "      <td>386</td>\n",
       "      <td>388</td>\n",
       "    </tr>\n",
       "    <tr>\n",
       "      <th>nome</th>\n",
       "      <td>Outros</td>\n",
       "      <td>Ipatinga</td>\n",
       "      <td>Cuiabá</td>\n",
       "      <td>Icasa</td>\n",
       "      <td>Oeste</td>\n",
       "      <td>Duque de Caxias</td>\n",
       "      <td>Americana</td>\n",
       "      <td>Grêmio Prudente</td>\n",
       "      <td>Luverdense</td>\n",
       "      <td>Flamengo</td>\n",
       "      <td>...</td>\n",
       "      <td>América-RN</td>\n",
       "      <td>Ceará</td>\n",
       "      <td>Fortaleza</td>\n",
       "      <td>Moto Club</td>\n",
       "      <td>Sampaio Corrêa</td>\n",
       "      <td>Remo</td>\n",
       "      <td>Atlético-GO</td>\n",
       "      <td>Vila Nova</td>\n",
       "      <td>São Caetano</td>\n",
       "      <td>Brasiliense</td>\n",
       "    </tr>\n",
       "    <tr>\n",
       "      <th>abreviacao</th>\n",
       "      <td>OUT</td>\n",
       "      <td>IPA</td>\n",
       "      <td>CUI</td>\n",
       "      <td>ICA</td>\n",
       "      <td>OES</td>\n",
       "      <td>DUQ</td>\n",
       "      <td>AME</td>\n",
       "      <td>PRU</td>\n",
       "      <td>LUV</td>\n",
       "      <td>FLA</td>\n",
       "      <td>...</td>\n",
       "      <td>AME</td>\n",
       "      <td>CEA</td>\n",
       "      <td>FOR</td>\n",
       "      <td>MOT</td>\n",
       "      <td>SAM</td>\n",
       "      <td>REM</td>\n",
       "      <td>ACG</td>\n",
       "      <td>VIL</td>\n",
       "      <td>SAO</td>\n",
       "      <td>BRA</td>\n",
       "    </tr>\n",
       "  </tbody>\n",
       "</table>\n",
       "<p>3 rows × 67 columns</p>\n",
       "</div>"
      ],
      "text/plain": [
       "                 1      1349    1371   1390   2190             2193  \\\n",
       "id               1      1349    1371   1390   2190             2193   \n",
       "nome        Outros  Ipatinga  Cuiabá  Icasa  Oeste  Duque de Caxias   \n",
       "abreviacao     OUT       IPA     CUI    ICA    OES              DUQ   \n",
       "\n",
       "                 2197             2554        2565       262  ...         351  \\\n",
       "id               2197             2554        2565       262  ...         351   \n",
       "nome        Americana  Grêmio Prudente  Luverdense  Flamengo  ...  América-RN   \n",
       "abreviacao        AME              PRU         LUV       FLA  ...         AME   \n",
       "\n",
       "              354        356        362             363   364          373  \\\n",
       "id            354        356        362             363   364          373   \n",
       "nome        Ceará  Fortaleza  Moto Club  Sampaio Corrêa  Remo  Atlético-GO   \n",
       "abreviacao    CEA        FOR        MOT             SAM   REM          ACG   \n",
       "\n",
       "                  375          386          388  \n",
       "id                375          386          388  \n",
       "nome        Vila Nova  São Caetano  Brasiliense  \n",
       "abreviacao        VIL          SAO          BRA  \n",
       "\n",
       "[3 rows x 67 columns]"
      ]
     },
     "execution_count": 609,
     "metadata": {},
     "output_type": "execute_result"
    }
   ],
   "source": [
    "pd.DataFrame(clubes).iloc[0:3]"
   ]
  },
  {
   "cell_type": "code",
   "execution_count": 626,
   "metadata": {},
   "outputs": [],
   "source": [
    "clubes_id ={\n",
    "    341:'CSA',\n",
    "    314:'AVA',\n",
    "    294:'CFC',\n",
    "    280:'BGT',\n",
    "    292:'SPO',\n",
    "    290:'GOI',\n",
    "    285:'INT',\n",
    "    293:'CAP',\n",
    "    282:'ATL',\n",
    "    283:'CRU',\n",
    "    284:'GRE',\n",
    "    287:'VIT',\n",
    "    267:'IPA',\n",
    "    1371:'CUI',\n",
    "    1390:'ICA',\n",
    "    2190:'OES',\n",
    "    2193:'DUQ',\n",
    "    2197:'AME',\n",
    "    2554:'PRU',\n",
    "    2565:'LUV',\n",
    "    262:'FLA',\n",
    "    351:'AME',\n",
    "    354:'CEA',\n",
    "    356:'FOR',\n",
    "    362:'MOT',\n",
    "    363:'SAM',\n",
    "    364:'REM',\n",
    "    373:'ACG',\n",
    "    375:'VIL',\n",
    "    386:'SAO',\n",
    "    388:'BRA',\n",
    "    315:'CHA',\n",
    "    263:'BOT',\n",
    "    264:'COR',\n",
    "    265:'BAH',\n",
    "    266:'FLU',\n",
    "    267:'VAS',\n",
    "    275:'PAL',\n",
    "    276:'SAO',\n",
    "    277:'SAN'\n",
    "}"
   ]
  },
  {
   "cell_type": "code",
   "execution_count": 62,
   "metadata": {},
   "outputs": [],
   "source": [
    "player_current_round = r.get('https://api.cartolafc.globo.com/atletas/mercado')"
   ]
  },
  {
   "cell_type": "code",
   "execution_count": 63,
   "metadata": {},
   "outputs": [],
   "source": [
    "player_current_round_json = player_current_round.json()"
   ]
  },
  {
   "cell_type": "code",
   "execution_count": 70,
   "metadata": {},
   "outputs": [
    {
     "data": {
      "text/plain": [
       "dict_keys(['atletas', 'clubes', 'posicoes', 'status'])"
      ]
     },
     "execution_count": 70,
     "metadata": {},
     "output_type": "execute_result"
    }
   ],
   "source": [
    "player_current_round_json.keys()"
   ]
  },
  {
   "cell_type": "code",
   "execution_count": 82,
   "metadata": {},
   "outputs": [
    {
     "data": {
      "text/plain": [
       "{'A': 1,\n",
       " 'CA': 4,\n",
       " 'DS': 18,\n",
       " 'FC': 48,\n",
       " 'FD': 17,\n",
       " 'FF': 20,\n",
       " 'FS': 42,\n",
       " 'FT': 2,\n",
       " 'G': 11,\n",
       " 'I': 20,\n",
       " 'PI': 94}"
      ]
     },
     "execution_count": 82,
     "metadata": {},
     "output_type": "execute_result"
    }
   ],
   "source": [
    "player_current_round_json['atletas'][0]['scout']"
   ]
  },
  {
   "cell_type": "markdown",
   "metadata": {},
   "source": [
    "<h2> Get Historic Information and Pepare DF for the Model </h2>"
   ]
  },
  {
   "cell_type": "code",
   "execution_count": 174,
   "metadata": {},
   "outputs": [],
   "source": [
    "#read the csv and download to local folder"
   ]
  },
  {
   "cell_type": "markdown",
   "metadata": {},
   "source": [
    "#Files  like:\n",
    "https://raw.githubusercontent.com/henriquepgomide/caRtola/master/data/2019/rodada-1.csv"
   ]
  },
  {
   "cell_type": "code",
   "execution_count": 355,
   "metadata": {},
   "outputs": [],
   "source": [
    "years = ['2018','2019','2020','2017']"
   ]
  },
  {
   "cell_type": "code",
   "execution_count": 324,
   "metadata": {},
   "outputs": [],
   "source": [
    "rodadas = [str(number) for number in range(1,38)]"
   ]
  },
  {
   "cell_type": "code",
   "execution_count": 309,
   "metadata": {},
   "outputs": [],
   "source": [
    "root = 'https://raw.githubusercontent.com/henriquepgomide/cartola/master/data'"
   ]
  },
  {
   "cell_type": "code",
   "execution_count": 413,
   "metadata": {},
   "outputs": [
    {
     "name": "stdout",
     "output_type": "stream",
     "text": [
      "Wall time: 3min 42ssercontent.com/henriquepgomide/cartola/master/data/2017/rodada-37.csv\n"
     ]
    }
   ],
   "source": [
    "%%time\n",
    "download_data(root,years,rodadas)"
   ]
  },
  {
   "cell_type": "markdown",
   "metadata": {},
   "source": [
    "<h2> Read Historic information stored </h2>"
   ]
  },
  {
   "cell_type": "code",
   "execution_count": 774,
   "metadata": {},
   "outputs": [
    {
     "name": "stdout",
     "output_type": "stream",
     "text": [
      "Wall time: 1min 2s\n"
     ]
    }
   ],
   "source": [
    "%%time\n",
    "history=read_data(root,years,rodadas)"
   ]
  },
  {
   "cell_type": "code",
   "execution_count": 775,
   "metadata": {},
   "outputs": [
    {
     "data": {
      "text/html": [
       "<div>\n",
       "<style scoped>\n",
       "    .dataframe tbody tr th:only-of-type {\n",
       "        vertical-align: middle;\n",
       "    }\n",
       "\n",
       "    .dataframe tbody tr th {\n",
       "        vertical-align: top;\n",
       "    }\n",
       "\n",
       "    .dataframe thead th {\n",
       "        text-align: right;\n",
       "    }\n",
       "</style>\n",
       "<table border=\"1\" class=\"dataframe\">\n",
       "  <thead>\n",
       "    <tr style=\"text-align: right;\">\n",
       "      <th></th>\n",
       "      <th>Unnamed: 0</th>\n",
       "      <th>Unnamed: 0.1</th>\n",
       "      <th>atletas.nome</th>\n",
       "      <th>atletas.slug</th>\n",
       "      <th>atletas.apelido</th>\n",
       "      <th>atletas.foto</th>\n",
       "      <th>atletas.atleta_id</th>\n",
       "      <th>atletas.rodada_id</th>\n",
       "      <th>atletas.clube_id</th>\n",
       "      <th>atletas.posicao_id</th>\n",
       "      <th>...</th>\n",
       "      <th>GS</th>\n",
       "      <th>CV</th>\n",
       "      <th>GC</th>\n",
       "      <th>ano</th>\n",
       "      <th>rodada</th>\n",
       "      <th>PP</th>\n",
       "      <th>DP</th>\n",
       "      <th>atletas.jogos_num</th>\n",
       "      <th>PI</th>\n",
       "      <th>DS</th>\n",
       "    </tr>\n",
       "  </thead>\n",
       "  <tbody>\n",
       "    <tr>\n",
       "      <th>0</th>\n",
       "      <td>0</td>\n",
       "      <td>1</td>\n",
       "      <td>Matheus Ferraz Pereira</td>\n",
       "      <td>matheus-ferraz</td>\n",
       "      <td>Matheus Ferraz</td>\n",
       "      <td>https://s.glbimg.com/es/sde/f/2018/03/17/6d461...</td>\n",
       "      <td>38632</td>\n",
       "      <td>1</td>\n",
       "      <td>AME</td>\n",
       "      <td>zag</td>\n",
       "      <td>...</td>\n",
       "      <td>NaN</td>\n",
       "      <td>NaN</td>\n",
       "      <td>NaN</td>\n",
       "      <td>2018</td>\n",
       "      <td>1</td>\n",
       "      <td>NaN</td>\n",
       "      <td>NaN</td>\n",
       "      <td>NaN</td>\n",
       "      <td>NaN</td>\n",
       "      <td>NaN</td>\n",
       "    </tr>\n",
       "    <tr>\n",
       "      <th>1</th>\n",
       "      <td>1</td>\n",
       "      <td>2</td>\n",
       "      <td>Willian Lanes de Lima</td>\n",
       "      <td>lima</td>\n",
       "      <td>Lima</td>\n",
       "      <td>https://s.glbimg.com/es/sde/f/2018/03/17/3d9ef...</td>\n",
       "      <td>38506</td>\n",
       "      <td>1</td>\n",
       "      <td>AME</td>\n",
       "      <td>zag</td>\n",
       "      <td>...</td>\n",
       "      <td>NaN</td>\n",
       "      <td>NaN</td>\n",
       "      <td>NaN</td>\n",
       "      <td>2018</td>\n",
       "      <td>1</td>\n",
       "      <td>NaN</td>\n",
       "      <td>NaN</td>\n",
       "      <td>NaN</td>\n",
       "      <td>NaN</td>\n",
       "      <td>NaN</td>\n",
       "    </tr>\n",
       "    <tr>\n",
       "      <th>2</th>\n",
       "      <td>2</td>\n",
       "      <td>3</td>\n",
       "      <td>Rómulo Otero Vásquez</td>\n",
       "      <td>otero</td>\n",
       "      <td>Otero</td>\n",
       "      <td>https://s.glbimg.com/es/sde/f/2017/04/03/9fe40...</td>\n",
       "      <td>83004</td>\n",
       "      <td>1</td>\n",
       "      <td>ATL</td>\n",
       "      <td>mei</td>\n",
       "      <td>...</td>\n",
       "      <td>NaN</td>\n",
       "      <td>NaN</td>\n",
       "      <td>NaN</td>\n",
       "      <td>2018</td>\n",
       "      <td>1</td>\n",
       "      <td>NaN</td>\n",
       "      <td>NaN</td>\n",
       "      <td>NaN</td>\n",
       "      <td>NaN</td>\n",
       "      <td>NaN</td>\n",
       "    </tr>\n",
       "    <tr>\n",
       "      <th>3</th>\n",
       "      <td>3</td>\n",
       "      <td>4</td>\n",
       "      <td>Diego Ribas da Cunha</td>\n",
       "      <td>diego</td>\n",
       "      <td>Diego</td>\n",
       "      <td>https://s.glbimg.com/es/sde/f/2017/08/16/3ba37...</td>\n",
       "      <td>38909</td>\n",
       "      <td>1</td>\n",
       "      <td>FLA</td>\n",
       "      <td>mei</td>\n",
       "      <td>...</td>\n",
       "      <td>NaN</td>\n",
       "      <td>NaN</td>\n",
       "      <td>NaN</td>\n",
       "      <td>2018</td>\n",
       "      <td>1</td>\n",
       "      <td>NaN</td>\n",
       "      <td>NaN</td>\n",
       "      <td>NaN</td>\n",
       "      <td>NaN</td>\n",
       "      <td>NaN</td>\n",
       "    </tr>\n",
       "    <tr>\n",
       "      <th>4</th>\n",
       "      <td>4</td>\n",
       "      <td>5</td>\n",
       "      <td>Rodrigo Eduardo Costa Marinho</td>\n",
       "      <td>rodriguinho</td>\n",
       "      <td>Rodriguinho</td>\n",
       "      <td>https://s.glbimg.com/es/sde/f/2018/03/20/c125f...</td>\n",
       "      <td>61033</td>\n",
       "      <td>1</td>\n",
       "      <td>COR</td>\n",
       "      <td>mei</td>\n",
       "      <td>...</td>\n",
       "      <td>NaN</td>\n",
       "      <td>NaN</td>\n",
       "      <td>NaN</td>\n",
       "      <td>2018</td>\n",
       "      <td>1</td>\n",
       "      <td>NaN</td>\n",
       "      <td>NaN</td>\n",
       "      <td>NaN</td>\n",
       "      <td>NaN</td>\n",
       "      <td>NaN</td>\n",
       "    </tr>\n",
       "  </tbody>\n",
       "</table>\n",
       "<p>5 rows × 39 columns</p>\n",
       "</div>"
      ],
      "text/plain": [
       "  Unnamed: 0 Unnamed: 0.1                   atletas.nome    atletas.slug  \\\n",
       "0          0            1         Matheus Ferraz Pereira  matheus-ferraz   \n",
       "1          1            2          Willian Lanes de Lima            lima   \n",
       "2          2            3           Rómulo Otero Vásquez           otero   \n",
       "3          3            4           Diego Ribas da Cunha           diego   \n",
       "4          4            5  Rodrigo Eduardo Costa Marinho     rodriguinho   \n",
       "\n",
       "  atletas.apelido                                       atletas.foto  \\\n",
       "0  Matheus Ferraz  https://s.glbimg.com/es/sde/f/2018/03/17/6d461...   \n",
       "1            Lima  https://s.glbimg.com/es/sde/f/2018/03/17/3d9ef...   \n",
       "2           Otero  https://s.glbimg.com/es/sde/f/2017/04/03/9fe40...   \n",
       "3           Diego  https://s.glbimg.com/es/sde/f/2017/08/16/3ba37...   \n",
       "4     Rodriguinho  https://s.glbimg.com/es/sde/f/2018/03/20/c125f...   \n",
       "\n",
       "  atletas.atleta_id atletas.rodada_id atletas.clube_id atletas.posicao_id  \\\n",
       "0             38632                 1              AME                zag   \n",
       "1             38506                 1              AME                zag   \n",
       "2             83004                 1              ATL                mei   \n",
       "3             38909                 1              FLA                mei   \n",
       "4             61033                 1              COR                mei   \n",
       "\n",
       "   ...  GS  CV  GC   ano  rodada  PP  DP  atletas.jogos_num  PI  DS  \n",
       "0  ... NaN NaN NaN  2018       1 NaN NaN                NaN NaN NaN  \n",
       "1  ... NaN NaN NaN  2018       1 NaN NaN                NaN NaN NaN  \n",
       "2  ... NaN NaN NaN  2018       1 NaN NaN                NaN NaN NaN  \n",
       "3  ... NaN NaN NaN  2018       1 NaN NaN                NaN NaN NaN  \n",
       "4  ... NaN NaN NaN  2018       1 NaN NaN                NaN NaN NaN  \n",
       "\n",
       "[5 rows x 39 columns]"
      ]
     },
     "execution_count": 775,
     "metadata": {},
     "output_type": "execute_result"
    }
   ],
   "source": [
    "#preview of the data\n",
    "history.head()"
   ]
  },
  {
   "cell_type": "code",
   "execution_count": 780,
   "metadata": {},
   "outputs": [
    {
     "data": {
      "text/plain": [
       "Unnamed: 0                         0\n",
       "Unnamed: 0.1                       0\n",
       "atletas.nome                       0\n",
       "atletas.slug                       0\n",
       "atletas.apelido                    0\n",
       "atletas.foto                    2619\n",
       "atletas.atleta_id                  0\n",
       "atletas.rodada_id                  0\n",
       "atletas.clube_id                   0\n",
       "atletas.posicao_id                 0\n",
       "atletas.status_id                  0\n",
       "atletas.pontos_num                 0\n",
       "atletas.preco_num                  0\n",
       "atletas.variacao_num               0\n",
       "atletas.media_num                  0\n",
       "atletas.clube.id.full.name         0\n",
       "FC                             46746\n",
       "FD                             69367\n",
       "FF                             61075\n",
       "FS                             46495\n",
       "G                              88677\n",
       "I                              88210\n",
       "RB                             85202\n",
       "CA                             65984\n",
       "PE                             81681\n",
       "A                              91149\n",
       "SG                             91905\n",
       "DD                            112156\n",
       "FT                            104318\n",
       "GS                            111918\n",
       "CV                            110134\n",
       "GC                            115947\n",
       "ano                                0\n",
       "rodada                             0\n",
       "PP                            115296\n",
       "DP                            116585\n",
       "atletas.jogos_num              59837\n",
       "PI                             40630\n",
       "DS                             48529\n",
       "dtype: int64"
      ]
     },
     "execution_count": 780,
     "metadata": {},
     "output_type": "execute_result"
    }
   ],
   "source": [
    "# checking missing data\n",
    "history.isna().sum()"
   ]
  },
  {
   "cell_type": "code",
   "execution_count": 777,
   "metadata": {},
   "outputs": [
    {
     "data": {
      "text/plain": [
       "117771"
      ]
     },
     "execution_count": 777,
     "metadata": {},
     "output_type": "execute_result"
    }
   ],
   "source": [
    "#Todal of records\n",
    "len(history)"
   ]
  },
  {
   "cell_type": "code",
   "execution_count": 778,
   "metadata": {},
   "outputs": [],
   "source": [
    "history['DS'] = history['DS'].fillna(history['RB']) "
   ]
  },
  {
   "cell_type": "code",
   "execution_count": 779,
   "metadata": {},
   "outputs": [],
   "source": [
    "history['PI'] = history['PI'].fillna(history['PE'])"
   ]
  },
  {
   "cell_type": "code",
   "execution_count": 782,
   "metadata": {},
   "outputs": [],
   "source": [
    "history.drop(columns=['PE','RB'],inplace=True)"
   ]
  },
  {
   "cell_type": "code",
   "execution_count": 783,
   "metadata": {},
   "outputs": [
    {
     "data": {
      "text/plain": [
       "Index(['Unnamed: 0', 'Unnamed: 0.1', 'atletas.nome', 'atletas.slug',\n",
       "       'atletas.apelido', 'atletas.foto', 'atletas.atleta_id',\n",
       "       'atletas.rodada_id', 'atletas.clube_id', 'atletas.posicao_id',\n",
       "       'atletas.status_id', 'atletas.pontos_num', 'atletas.preco_num',\n",
       "       'atletas.variacao_num', 'atletas.media_num',\n",
       "       'atletas.clube.id.full.name', 'FC', 'FD', 'FF', 'FS', 'G', 'I', 'CA',\n",
       "       'A', 'SG', 'DD', 'FT', 'GS', 'CV', 'GC', 'ano', 'rodada', 'PP', 'DP',\n",
       "       'atletas.jogos_num', 'PI', 'DS'],\n",
       "      dtype='object')"
      ]
     },
     "execution_count": 783,
     "metadata": {},
     "output_type": "execute_result"
    }
   ],
   "source": [
    "history.columns"
   ]
  },
  {
   "cell_type": "code",
   "execution_count": 784,
   "metadata": {},
   "outputs": [],
   "source": [
    "#Data cleaning - fill NA data in the dataframe\n",
    "history.iloc[:,np.r_[16:34]] = history.iloc[:,np.r_[16:34]].fillna(value=0)"
   ]
  },
  {
   "cell_type": "code",
   "execution_count": 785,
   "metadata": {},
   "outputs": [
    {
     "data": {
      "text/html": [
       "<div>\n",
       "<style scoped>\n",
       "    .dataframe tbody tr th:only-of-type {\n",
       "        vertical-align: middle;\n",
       "    }\n",
       "\n",
       "    .dataframe tbody tr th {\n",
       "        vertical-align: top;\n",
       "    }\n",
       "\n",
       "    .dataframe thead th {\n",
       "        text-align: right;\n",
       "    }\n",
       "</style>\n",
       "<table border=\"1\" class=\"dataframe\">\n",
       "  <thead>\n",
       "    <tr style=\"text-align: right;\">\n",
       "      <th></th>\n",
       "      <th>Unnamed: 0</th>\n",
       "      <th>Unnamed: 0.1</th>\n",
       "      <th>atletas.nome</th>\n",
       "      <th>atletas.slug</th>\n",
       "      <th>atletas.apelido</th>\n",
       "      <th>atletas.foto</th>\n",
       "      <th>atletas.atleta_id</th>\n",
       "      <th>atletas.rodada_id</th>\n",
       "      <th>atletas.clube_id</th>\n",
       "      <th>atletas.posicao_id</th>\n",
       "      <th>...</th>\n",
       "      <th>GS</th>\n",
       "      <th>CV</th>\n",
       "      <th>GC</th>\n",
       "      <th>ano</th>\n",
       "      <th>rodada</th>\n",
       "      <th>PP</th>\n",
       "      <th>DP</th>\n",
       "      <th>atletas.jogos_num</th>\n",
       "      <th>PI</th>\n",
       "      <th>DS</th>\n",
       "    </tr>\n",
       "  </thead>\n",
       "  <tbody>\n",
       "    <tr>\n",
       "      <th>0</th>\n",
       "      <td>0</td>\n",
       "      <td>1</td>\n",
       "      <td>Matheus Ferraz Pereira</td>\n",
       "      <td>matheus-ferraz</td>\n",
       "      <td>Matheus Ferraz</td>\n",
       "      <td>https://s.glbimg.com/es/sde/f/2018/03/17/6d461...</td>\n",
       "      <td>38632</td>\n",
       "      <td>1</td>\n",
       "      <td>AME</td>\n",
       "      <td>zag</td>\n",
       "      <td>...</td>\n",
       "      <td>0.0</td>\n",
       "      <td>0.0</td>\n",
       "      <td>0.0</td>\n",
       "      <td>2018</td>\n",
       "      <td>1</td>\n",
       "      <td>0.0</td>\n",
       "      <td>0.0</td>\n",
       "      <td>NaN</td>\n",
       "      <td>NaN</td>\n",
       "      <td>NaN</td>\n",
       "    </tr>\n",
       "    <tr>\n",
       "      <th>1</th>\n",
       "      <td>1</td>\n",
       "      <td>2</td>\n",
       "      <td>Willian Lanes de Lima</td>\n",
       "      <td>lima</td>\n",
       "      <td>Lima</td>\n",
       "      <td>https://s.glbimg.com/es/sde/f/2018/03/17/3d9ef...</td>\n",
       "      <td>38506</td>\n",
       "      <td>1</td>\n",
       "      <td>AME</td>\n",
       "      <td>zag</td>\n",
       "      <td>...</td>\n",
       "      <td>0.0</td>\n",
       "      <td>0.0</td>\n",
       "      <td>0.0</td>\n",
       "      <td>2018</td>\n",
       "      <td>1</td>\n",
       "      <td>0.0</td>\n",
       "      <td>0.0</td>\n",
       "      <td>NaN</td>\n",
       "      <td>NaN</td>\n",
       "      <td>NaN</td>\n",
       "    </tr>\n",
       "    <tr>\n",
       "      <th>2</th>\n",
       "      <td>2</td>\n",
       "      <td>3</td>\n",
       "      <td>Rómulo Otero Vásquez</td>\n",
       "      <td>otero</td>\n",
       "      <td>Otero</td>\n",
       "      <td>https://s.glbimg.com/es/sde/f/2017/04/03/9fe40...</td>\n",
       "      <td>83004</td>\n",
       "      <td>1</td>\n",
       "      <td>ATL</td>\n",
       "      <td>mei</td>\n",
       "      <td>...</td>\n",
       "      <td>0.0</td>\n",
       "      <td>0.0</td>\n",
       "      <td>0.0</td>\n",
       "      <td>2018</td>\n",
       "      <td>1</td>\n",
       "      <td>0.0</td>\n",
       "      <td>0.0</td>\n",
       "      <td>NaN</td>\n",
       "      <td>NaN</td>\n",
       "      <td>3.0</td>\n",
       "    </tr>\n",
       "    <tr>\n",
       "      <th>3</th>\n",
       "      <td>3</td>\n",
       "      <td>4</td>\n",
       "      <td>Diego Ribas da Cunha</td>\n",
       "      <td>diego</td>\n",
       "      <td>Diego</td>\n",
       "      <td>https://s.glbimg.com/es/sde/f/2017/08/16/3ba37...</td>\n",
       "      <td>38909</td>\n",
       "      <td>1</td>\n",
       "      <td>FLA</td>\n",
       "      <td>mei</td>\n",
       "      <td>...</td>\n",
       "      <td>0.0</td>\n",
       "      <td>0.0</td>\n",
       "      <td>0.0</td>\n",
       "      <td>2018</td>\n",
       "      <td>1</td>\n",
       "      <td>0.0</td>\n",
       "      <td>0.0</td>\n",
       "      <td>NaN</td>\n",
       "      <td>5.0</td>\n",
       "      <td>1.0</td>\n",
       "    </tr>\n",
       "    <tr>\n",
       "      <th>4</th>\n",
       "      <td>4</td>\n",
       "      <td>5</td>\n",
       "      <td>Rodrigo Eduardo Costa Marinho</td>\n",
       "      <td>rodriguinho</td>\n",
       "      <td>Rodriguinho</td>\n",
       "      <td>https://s.glbimg.com/es/sde/f/2018/03/20/c125f...</td>\n",
       "      <td>61033</td>\n",
       "      <td>1</td>\n",
       "      <td>COR</td>\n",
       "      <td>mei</td>\n",
       "      <td>...</td>\n",
       "      <td>0.0</td>\n",
       "      <td>0.0</td>\n",
       "      <td>0.0</td>\n",
       "      <td>2018</td>\n",
       "      <td>1</td>\n",
       "      <td>0.0</td>\n",
       "      <td>0.0</td>\n",
       "      <td>NaN</td>\n",
       "      <td>5.0</td>\n",
       "      <td>1.0</td>\n",
       "    </tr>\n",
       "  </tbody>\n",
       "</table>\n",
       "<p>5 rows × 37 columns</p>\n",
       "</div>"
      ],
      "text/plain": [
       "  Unnamed: 0 Unnamed: 0.1                   atletas.nome    atletas.slug  \\\n",
       "0          0            1         Matheus Ferraz Pereira  matheus-ferraz   \n",
       "1          1            2          Willian Lanes de Lima            lima   \n",
       "2          2            3           Rómulo Otero Vásquez           otero   \n",
       "3          3            4           Diego Ribas da Cunha           diego   \n",
       "4          4            5  Rodrigo Eduardo Costa Marinho     rodriguinho   \n",
       "\n",
       "  atletas.apelido                                       atletas.foto  \\\n",
       "0  Matheus Ferraz  https://s.glbimg.com/es/sde/f/2018/03/17/6d461...   \n",
       "1            Lima  https://s.glbimg.com/es/sde/f/2018/03/17/3d9ef...   \n",
       "2           Otero  https://s.glbimg.com/es/sde/f/2017/04/03/9fe40...   \n",
       "3           Diego  https://s.glbimg.com/es/sde/f/2017/08/16/3ba37...   \n",
       "4     Rodriguinho  https://s.glbimg.com/es/sde/f/2018/03/20/c125f...   \n",
       "\n",
       "  atletas.atleta_id atletas.rodada_id atletas.clube_id atletas.posicao_id  \\\n",
       "0             38632                 1              AME                zag   \n",
       "1             38506                 1              AME                zag   \n",
       "2             83004                 1              ATL                mei   \n",
       "3             38909                 1              FLA                mei   \n",
       "4             61033                 1              COR                mei   \n",
       "\n",
       "   ...   GS   CV   GC   ano  rodada   PP   DP  atletas.jogos_num   PI   DS  \n",
       "0  ...  0.0  0.0  0.0  2018       1  0.0  0.0                NaN  NaN  NaN  \n",
       "1  ...  0.0  0.0  0.0  2018       1  0.0  0.0                NaN  NaN  NaN  \n",
       "2  ...  0.0  0.0  0.0  2018       1  0.0  0.0                NaN  NaN  3.0  \n",
       "3  ...  0.0  0.0  0.0  2018       1  0.0  0.0                NaN  5.0  1.0  \n",
       "4  ...  0.0  0.0  0.0  2018       1  0.0  0.0                NaN  5.0  1.0  \n",
       "\n",
       "[5 rows x 37 columns]"
      ]
     },
     "execution_count": 785,
     "metadata": {},
     "output_type": "execute_result"
    }
   ],
   "source": [
    "history.head()"
   ]
  },
  {
   "cell_type": "code",
   "execution_count": 786,
   "metadata": {},
   "outputs": [],
   "source": [
    "#Create next round column\n",
    "# this will be uede to get next round points\n",
    "history['proxima_rodada'] = history['rodada']+1"
   ]
  },
  {
   "cell_type": "code",
   "execution_count": 787,
   "metadata": {},
   "outputs": [],
   "source": [
    "# Making sure last round of the championship is removed. There is not a future round to predict\n",
    "history = history.loc[history['rodada']!=38].copy()"
   ]
  },
  {
   "cell_type": "code",
   "execution_count": 788,
   "metadata": {},
   "outputs": [
    {
     "data": {
      "text/plain": [
       "array([ 1,  2,  3,  4,  5,  6,  7,  8,  9, 10, 11, 12, 13, 14, 15, 16, 17,\n",
       "       18, 19, 20, 21, 22, 23, 24, 25, 26, 27, 28, 29, 30, 31, 32, 33, 34,\n",
       "       35, 36, 37], dtype=int64)"
      ]
     },
     "execution_count": 788,
     "metadata": {},
     "output_type": "execute_result"
    }
   ],
   "source": [
    "history.rodada.unique()"
   ]
  },
  {
   "cell_type": "code",
   "execution_count": 789,
   "metadata": {},
   "outputs": [
    {
     "data": {
      "text/plain": [
       "Index(['Unnamed: 0', 'Unnamed: 0.1', 'atletas.nome', 'atletas.slug',\n",
       "       'atletas.apelido', 'atletas.foto', 'atletas.atleta_id',\n",
       "       'atletas.rodada_id', 'atletas.clube_id', 'atletas.posicao_id',\n",
       "       'atletas.status_id', 'atletas.pontos_num', 'atletas.preco_num',\n",
       "       'atletas.variacao_num', 'atletas.media_num',\n",
       "       'atletas.clube.id.full.name', 'FC', 'FD', 'FF', 'FS', 'G', 'I', 'CA',\n",
       "       'A', 'SG', 'DD', 'FT', 'GS', 'CV', 'GC', 'ano', 'rodada', 'PP', 'DP',\n",
       "       'atletas.jogos_num', 'PI', 'DS', 'proxima_rodada'],\n",
       "      dtype='object')"
      ]
     },
     "execution_count": 789,
     "metadata": {},
     "output_type": "execute_result"
    }
   ],
   "source": [
    "history.columns"
   ]
  },
  {
   "cell_type": "code",
   "execution_count": 790,
   "metadata": {},
   "outputs": [],
   "source": [
    "#Drop unqanted columns\n",
    "history.drop(columns= ['Unnamed: 0.1','Unnamed: 0'],inplace=True)"
   ]
  },
  {
   "cell_type": "code",
   "execution_count": 791,
   "metadata": {},
   "outputs": [
    {
     "data": {
      "text/plain": [
       "Index(['atletas.nome', 'atletas.slug', 'atletas.apelido', 'atletas.foto',\n",
       "       'atletas.atleta_id', 'atletas.rodada_id', 'atletas.clube_id',\n",
       "       'atletas.posicao_id', 'atletas.status_id', 'atletas.pontos_num',\n",
       "       'atletas.preco_num', 'atletas.variacao_num', 'atletas.media_num',\n",
       "       'atletas.clube.id.full.name', 'FC', 'FD', 'FF', 'FS', 'G', 'I', 'CA',\n",
       "       'A', 'SG', 'DD', 'FT', 'GS', 'CV', 'GC', 'ano', 'rodada', 'PP', 'DP',\n",
       "       'atletas.jogos_num', 'PI', 'DS', 'proxima_rodada'],\n",
       "      dtype='object')"
      ]
     },
     "execution_count": 791,
     "metadata": {},
     "output_type": "execute_result"
    }
   ],
   "source": [
    "history.columns"
   ]
  },
  {
   "cell_type": "code",
   "execution_count": 792,
   "metadata": {},
   "outputs": [],
   "source": [
    "#Clean duplicates \n",
    "history.drop_duplicates(inplace=True)"
   ]
  },
  {
   "cell_type": "code",
   "execution_count": 793,
   "metadata": {},
   "outputs": [
    {
     "data": {
      "text/plain": [
       "87278"
      ]
     },
     "execution_count": 793,
     "metadata": {},
     "output_type": "execute_result"
    }
   ],
   "source": [
    "len(history)"
   ]
  },
  {
   "cell_type": "code",
   "execution_count": 794,
   "metadata": {},
   "outputs": [],
   "source": [
    "cartola_df_stage = history[['atletas.atleta_id','atletas.rodada_id','atletas.clube_id','ano','rodada','atletas.preco_num','atletas.pontos_num']].copy()"
   ]
  },
  {
   "cell_type": "code",
   "execution_count": 795,
   "metadata": {},
   "outputs": [
    {
     "data": {
      "text/html": [
       "<div>\n",
       "<style scoped>\n",
       "    .dataframe tbody tr th:only-of-type {\n",
       "        vertical-align: middle;\n",
       "    }\n",
       "\n",
       "    .dataframe tbody tr th {\n",
       "        vertical-align: top;\n",
       "    }\n",
       "\n",
       "    .dataframe thead th {\n",
       "        text-align: right;\n",
       "    }\n",
       "</style>\n",
       "<table border=\"1\" class=\"dataframe\">\n",
       "  <thead>\n",
       "    <tr style=\"text-align: right;\">\n",
       "      <th></th>\n",
       "      <th>atletas.atleta_id</th>\n",
       "      <th>atletas.rodada_id</th>\n",
       "      <th>atletas.clube_id</th>\n",
       "      <th>ano</th>\n",
       "      <th>rodada</th>\n",
       "      <th>atletas.preco_num</th>\n",
       "      <th>atletas.pontos_num</th>\n",
       "    </tr>\n",
       "  </thead>\n",
       "  <tbody>\n",
       "    <tr>\n",
       "      <th>0</th>\n",
       "      <td>38632</td>\n",
       "      <td>1</td>\n",
       "      <td>AME</td>\n",
       "      <td>2018</td>\n",
       "      <td>1</td>\n",
       "      <td>6.00</td>\n",
       "      <td>0.0</td>\n",
       "    </tr>\n",
       "    <tr>\n",
       "      <th>1</th>\n",
       "      <td>38506</td>\n",
       "      <td>1</td>\n",
       "      <td>AME</td>\n",
       "      <td>2018</td>\n",
       "      <td>1</td>\n",
       "      <td>5.00</td>\n",
       "      <td>0.0</td>\n",
       "    </tr>\n",
       "    <tr>\n",
       "      <th>2</th>\n",
       "      <td>83004</td>\n",
       "      <td>1</td>\n",
       "      <td>ATL</td>\n",
       "      <td>2018</td>\n",
       "      <td>1</td>\n",
       "      <td>14.81</td>\n",
       "      <td>16.5</td>\n",
       "    </tr>\n",
       "    <tr>\n",
       "      <th>3</th>\n",
       "      <td>38909</td>\n",
       "      <td>1</td>\n",
       "      <td>FLA</td>\n",
       "      <td>2018</td>\n",
       "      <td>1</td>\n",
       "      <td>10.89</td>\n",
       "      <td>0.8</td>\n",
       "    </tr>\n",
       "    <tr>\n",
       "      <th>4</th>\n",
       "      <td>61033</td>\n",
       "      <td>1</td>\n",
       "      <td>COR</td>\n",
       "      <td>2018</td>\n",
       "      <td>1</td>\n",
       "      <td>23.08</td>\n",
       "      <td>16.5</td>\n",
       "    </tr>\n",
       "  </tbody>\n",
       "</table>\n",
       "</div>"
      ],
      "text/plain": [
       "  atletas.atleta_id atletas.rodada_id atletas.clube_id   ano  rodada  \\\n",
       "0             38632                 1              AME  2018       1   \n",
       "1             38506                 1              AME  2018       1   \n",
       "2             83004                 1              ATL  2018       1   \n",
       "3             38909                 1              FLA  2018       1   \n",
       "4             61033                 1              COR  2018       1   \n",
       "\n",
       "   atletas.preco_num  atletas.pontos_num  \n",
       "0               6.00                 0.0  \n",
       "1               5.00                 0.0  \n",
       "2              14.81                16.5  \n",
       "3              10.89                 0.8  \n",
       "4              23.08                16.5  "
      ]
     },
     "execution_count": 795,
     "metadata": {},
     "output_type": "execute_result"
    }
   ],
   "source": [
    "cartola_df_stage.head()"
   ]
  },
  {
   "cell_type": "code",
   "execution_count": 796,
   "metadata": {},
   "outputs": [],
   "source": [
    "# create a key to get next round results\n",
    "# next round results will be user to test the ML model\n",
    "cartola_df_stage['key_outer'] = cartola_df_stage['atletas.atleta_id'].astype(str)+cartola_df_stage['ano'].astype(str)+cartola_df_stage['atletas.clube_id'].astype(str)+cartola_df_stage['rodada'].astype(str)"
   ]
  },
  {
   "cell_type": "code",
   "execution_count": 797,
   "metadata": {},
   "outputs": [],
   "source": [
    "cartola_df_stage.drop(columns=['atletas.atleta_id','atletas.rodada_id','rodada','ano','atletas.clube_id'],inplace=True)"
   ]
  },
  {
   "cell_type": "code",
   "execution_count": 798,
   "metadata": {},
   "outputs": [],
   "source": [
    "cartola_df_stage.rename(columns={\"atletas.preco_num\":\"Preco_outer\",\"atletas.pontos_num\":\"Pontos_outer\"},inplace=True)"
   ]
  },
  {
   "cell_type": "code",
   "execution_count": 799,
   "metadata": {},
   "outputs": [],
   "source": [
    "history['key'] = history['atletas.atleta_id'].astype(str)+history['ano'].astype(str)+history['atletas.clube_id'].astype(str)+history['proxima_rodada'].astype(str)"
   ]
  },
  {
   "cell_type": "code",
   "execution_count": 800,
   "metadata": {},
   "outputs": [],
   "source": [
    "cartola_df_final = pd.merge(history,cartola_df_stage,how='left',left_on='key',right_on='key_outer')"
   ]
  },
  {
   "cell_type": "code",
   "execution_count": 801,
   "metadata": {},
   "outputs": [
    {
     "data": {
      "text/plain": [
       "87308"
      ]
     },
     "execution_count": 801,
     "metadata": {},
     "output_type": "execute_result"
    }
   ],
   "source": [
    "len(cartola_df_final)"
   ]
  },
  {
   "cell_type": "code",
   "execution_count": 802,
   "metadata": {},
   "outputs": [
    {
     "data": {
      "text/plain": [
       "30"
      ]
     },
     "execution_count": 802,
     "metadata": {},
     "output_type": "execute_result"
    }
   ],
   "source": [
    "#Check for duplicated records\n",
    "len(cartola_df_final.loc[cartola_df_final.duplicated()])"
   ]
  },
  {
   "cell_type": "code",
   "execution_count": 803,
   "metadata": {},
   "outputs": [],
   "source": [
    "cartola_df_final = cartola_df_final.loc[~cartola_df_final.duplicated()]"
   ]
  },
  {
   "cell_type": "code",
   "execution_count": 804,
   "metadata": {},
   "outputs": [
    {
     "data": {
      "text/plain": [
       "87278"
      ]
     },
     "execution_count": 804,
     "metadata": {},
     "output_type": "execute_result"
    }
   ],
   "source": [
    "len(cartola_df_final)"
   ]
  },
  {
   "cell_type": "code",
   "execution_count": 805,
   "metadata": {},
   "outputs": [
    {
     "data": {
      "text/plain": [
       "atletas.nome                      0\n",
       "atletas.slug                      0\n",
       "atletas.apelido                   0\n",
       "atletas.foto                   2314\n",
       "atletas.atleta_id                 0\n",
       "atletas.rodada_id                 0\n",
       "atletas.clube_id                  0\n",
       "atletas.posicao_id                0\n",
       "atletas.status_id                 0\n",
       "atletas.pontos_num                0\n",
       "atletas.preco_num                 0\n",
       "atletas.variacao_num              0\n",
       "atletas.media_num                 0\n",
       "atletas.clube.id.full.name        0\n",
       "FC                                0\n",
       "FD                                0\n",
       "FF                                0\n",
       "FS                                0\n",
       "G                                 0\n",
       "I                                 0\n",
       "CA                                0\n",
       "A                                 0\n",
       "SG                                0\n",
       "DD                                0\n",
       "FT                                0\n",
       "GS                                0\n",
       "CV                                0\n",
       "GC                                0\n",
       "ano                               0\n",
       "rodada                            0\n",
       "PP                                0\n",
       "DP                                0\n",
       "atletas.jogos_num             59837\n",
       "PI                            32481\n",
       "DS                            38252\n",
       "proxima_rodada                    0\n",
       "key                               0\n",
       "Preco_outer                    3246\n",
       "Pontos_outer                   3246\n",
       "key_outer                      3246\n",
       "dtype: int64"
      ]
     },
     "execution_count": 805,
     "metadata": {},
     "output_type": "execute_result"
    }
   ],
   "source": [
    "cartola_df_final.isna().sum()"
   ]
  },
  {
   "cell_type": "code",
   "execution_count": 806,
   "metadata": {},
   "outputs": [],
   "source": [
    "cartola_df_final = cartola_df_final.loc[~cartola_df_final.Preco_outer.isna()]"
   ]
  },
  {
   "cell_type": "code",
   "execution_count": 807,
   "metadata": {},
   "outputs": [],
   "source": [
    "cartola_df_final.loc[:,['DS','PI']] = cartola_df_final.loc[:,['DS','PI']].fillna(value=0)"
   ]
  },
  {
   "cell_type": "code",
   "execution_count": 808,
   "metadata": {},
   "outputs": [],
   "source": [
    "cartola_df_final['atletas.clube_id'].replace(clubes_id,inplace=True)"
   ]
  },
  {
   "cell_type": "code",
   "execution_count": 810,
   "metadata": {},
   "outputs": [
    {
     "data": {
      "text/plain": [
       "array(['Nulo', 'Provável', 'Contundido', 'Dúvida', 'Suspenso'],\n",
       "      dtype=object)"
      ]
     },
     "execution_count": 810,
     "metadata": {},
     "output_type": "execute_result"
    }
   ],
   "source": [
    "cartola_df_final['atletas.status_id'].unique()"
   ]
  },
  {
   "cell_type": "code",
   "execution_count": 811,
   "metadata": {},
   "outputs": [],
   "source": [
    "cartola_df_final = cartola_df_final.loc[(cartola_df_final['atletas.status_id'] != 'Suspenso') & (cartola_df_final['atletas.status_id']!='Contundido')]"
   ]
  },
  {
   "cell_type": "markdown",
   "metadata": {},
   "source": [
    "## Separate Model between Train and Test"
   ]
  },
  {
   "cell_type": "code",
   "execution_count": 812,
   "metadata": {},
   "outputs": [
    {
     "data": {
      "text/html": [
       "<div>\n",
       "<style scoped>\n",
       "    .dataframe tbody tr th:only-of-type {\n",
       "        vertical-align: middle;\n",
       "    }\n",
       "\n",
       "    .dataframe tbody tr th {\n",
       "        vertical-align: top;\n",
       "    }\n",
       "\n",
       "    .dataframe thead th {\n",
       "        text-align: right;\n",
       "    }\n",
       "</style>\n",
       "<table border=\"1\" class=\"dataframe\">\n",
       "  <thead>\n",
       "    <tr style=\"text-align: right;\">\n",
       "      <th></th>\n",
       "      <th>atletas.pontos_num</th>\n",
       "      <th>atletas.preco_num</th>\n",
       "      <th>atletas.variacao_num</th>\n",
       "      <th>atletas.media_num</th>\n",
       "      <th>FC</th>\n",
       "      <th>FD</th>\n",
       "      <th>FF</th>\n",
       "      <th>FS</th>\n",
       "      <th>G</th>\n",
       "      <th>I</th>\n",
       "      <th>...</th>\n",
       "      <th>ano</th>\n",
       "      <th>rodada</th>\n",
       "      <th>PP</th>\n",
       "      <th>DP</th>\n",
       "      <th>atletas.jogos_num</th>\n",
       "      <th>PI</th>\n",
       "      <th>DS</th>\n",
       "      <th>proxima_rodada</th>\n",
       "      <th>Preco_outer</th>\n",
       "      <th>Pontos_outer</th>\n",
       "    </tr>\n",
       "  </thead>\n",
       "  <tbody>\n",
       "    <tr>\n",
       "      <th>count</th>\n",
       "      <td>77247.000000</td>\n",
       "      <td>77247.00000</td>\n",
       "      <td>77247.000000</td>\n",
       "      <td>77247.000000</td>\n",
       "      <td>77247.000000</td>\n",
       "      <td>77247.000000</td>\n",
       "      <td>77247.000000</td>\n",
       "      <td>77247.000000</td>\n",
       "      <td>77247.000000</td>\n",
       "      <td>77247.000000</td>\n",
       "      <td>...</td>\n",
       "      <td>77247.000000</td>\n",
       "      <td>77247.000000</td>\n",
       "      <td>77247.000000</td>\n",
       "      <td>77247.000000</td>\n",
       "      <td>24630.000000</td>\n",
       "      <td>77247.000000</td>\n",
       "      <td>77247.000000</td>\n",
       "      <td>77247.000000</td>\n",
       "      <td>77247.000000</td>\n",
       "      <td>77247.000000</td>\n",
       "    </tr>\n",
       "    <tr>\n",
       "      <th>mean</th>\n",
       "      <td>1.136524</td>\n",
       "      <td>4.73713</td>\n",
       "      <td>0.008220</td>\n",
       "      <td>1.711399</td>\n",
       "      <td>6.202312</td>\n",
       "      <td>1.381232</td>\n",
       "      <td>2.230326</td>\n",
       "      <td>5.850441</td>\n",
       "      <td>0.473753</td>\n",
       "      <td>0.586405</td>\n",
       "      <td>...</td>\n",
       "      <td>2018.976038</td>\n",
       "      <td>18.698189</td>\n",
       "      <td>0.015159</td>\n",
       "      <td>0.011884</td>\n",
       "      <td>6.520666</td>\n",
       "      <td>16.208513</td>\n",
       "      <td>6.802970</td>\n",
       "      <td>19.698189</td>\n",
       "      <td>4.737710</td>\n",
       "      <td>1.151115</td>\n",
       "    </tr>\n",
       "    <tr>\n",
       "      <th>std</th>\n",
       "      <td>2.870036</td>\n",
       "      <td>3.68228</td>\n",
       "      <td>0.686298</td>\n",
       "      <td>2.162227</td>\n",
       "      <td>9.533346</td>\n",
       "      <td>2.893321</td>\n",
       "      <td>4.158997</td>\n",
       "      <td>9.978102</td>\n",
       "      <td>1.432199</td>\n",
       "      <td>1.655079</td>\n",
       "      <td>...</td>\n",
       "      <td>0.813075</td>\n",
       "      <td>10.300301</td>\n",
       "      <td>0.126763</td>\n",
       "      <td>0.139122</td>\n",
       "      <td>7.090939</td>\n",
       "      <td>29.812697</td>\n",
       "      <td>11.498539</td>\n",
       "      <td>10.300301</td>\n",
       "      <td>3.682742</td>\n",
       "      <td>2.922899</td>\n",
       "    </tr>\n",
       "    <tr>\n",
       "      <th>min</th>\n",
       "      <td>-10.700000</td>\n",
       "      <td>0.69000</td>\n",
       "      <td>-7.380000</td>\n",
       "      <td>-9.200000</td>\n",
       "      <td>0.000000</td>\n",
       "      <td>0.000000</td>\n",
       "      <td>0.000000</td>\n",
       "      <td>0.000000</td>\n",
       "      <td>0.000000</td>\n",
       "      <td>0.000000</td>\n",
       "      <td>...</td>\n",
       "      <td>2018.000000</td>\n",
       "      <td>1.000000</td>\n",
       "      <td>0.000000</td>\n",
       "      <td>0.000000</td>\n",
       "      <td>0.000000</td>\n",
       "      <td>0.000000</td>\n",
       "      <td>0.000000</td>\n",
       "      <td>2.000000</td>\n",
       "      <td>0.690000</td>\n",
       "      <td>-10.700000</td>\n",
       "    </tr>\n",
       "    <tr>\n",
       "      <th>25%</th>\n",
       "      <td>0.000000</td>\n",
       "      <td>2.00000</td>\n",
       "      <td>0.000000</td>\n",
       "      <td>0.000000</td>\n",
       "      <td>0.000000</td>\n",
       "      <td>0.000000</td>\n",
       "      <td>0.000000</td>\n",
       "      <td>0.000000</td>\n",
       "      <td>0.000000</td>\n",
       "      <td>0.000000</td>\n",
       "      <td>...</td>\n",
       "      <td>2018.000000</td>\n",
       "      <td>10.000000</td>\n",
       "      <td>0.000000</td>\n",
       "      <td>0.000000</td>\n",
       "      <td>0.000000</td>\n",
       "      <td>0.000000</td>\n",
       "      <td>0.000000</td>\n",
       "      <td>11.000000</td>\n",
       "      <td>2.000000</td>\n",
       "      <td>0.000000</td>\n",
       "    </tr>\n",
       "    <tr>\n",
       "      <th>50%</th>\n",
       "      <td>0.000000</td>\n",
       "      <td>3.85000</td>\n",
       "      <td>0.000000</td>\n",
       "      <td>1.220000</td>\n",
       "      <td>2.000000</td>\n",
       "      <td>0.000000</td>\n",
       "      <td>0.000000</td>\n",
       "      <td>1.000000</td>\n",
       "      <td>0.000000</td>\n",
       "      <td>0.000000</td>\n",
       "      <td>...</td>\n",
       "      <td>2019.000000</td>\n",
       "      <td>19.000000</td>\n",
       "      <td>0.000000</td>\n",
       "      <td>0.000000</td>\n",
       "      <td>4.000000</td>\n",
       "      <td>4.000000</td>\n",
       "      <td>1.000000</td>\n",
       "      <td>20.000000</td>\n",
       "      <td>3.840000</td>\n",
       "      <td>0.000000</td>\n",
       "    </tr>\n",
       "    <tr>\n",
       "      <th>75%</th>\n",
       "      <td>0.900000</td>\n",
       "      <td>6.57000</td>\n",
       "      <td>0.000000</td>\n",
       "      <td>3.000000</td>\n",
       "      <td>9.000000</td>\n",
       "      <td>1.000000</td>\n",
       "      <td>3.000000</td>\n",
       "      <td>8.000000</td>\n",
       "      <td>0.000000</td>\n",
       "      <td>0.000000</td>\n",
       "      <td>...</td>\n",
       "      <td>2020.000000</td>\n",
       "      <td>28.000000</td>\n",
       "      <td>0.000000</td>\n",
       "      <td>0.000000</td>\n",
       "      <td>11.000000</td>\n",
       "      <td>20.000000</td>\n",
       "      <td>9.000000</td>\n",
       "      <td>29.000000</td>\n",
       "      <td>6.580000</td>\n",
       "      <td>1.000000</td>\n",
       "    </tr>\n",
       "    <tr>\n",
       "      <th>max</th>\n",
       "      <td>37.700000</td>\n",
       "      <td>27.59000</td>\n",
       "      <td>14.520000</td>\n",
       "      <td>22.700000</td>\n",
       "      <td>111.000000</td>\n",
       "      <td>33.000000</td>\n",
       "      <td>49.000000</td>\n",
       "      <td>137.000000</td>\n",
       "      <td>93.000000</td>\n",
       "      <td>24.000000</td>\n",
       "      <td>...</td>\n",
       "      <td>2020.000000</td>\n",
       "      <td>36.000000</td>\n",
       "      <td>2.000000</td>\n",
       "      <td>4.000000</td>\n",
       "      <td>34.000000</td>\n",
       "      <td>372.000000</td>\n",
       "      <td>112.000000</td>\n",
       "      <td>37.000000</td>\n",
       "      <td>27.590000</td>\n",
       "      <td>37.700000</td>\n",
       "    </tr>\n",
       "  </tbody>\n",
       "</table>\n",
       "<p>8 rows × 28 columns</p>\n",
       "</div>"
      ],
      "text/plain": [
       "       atletas.pontos_num  atletas.preco_num  atletas.variacao_num  \\\n",
       "count        77247.000000        77247.00000          77247.000000   \n",
       "mean             1.136524            4.73713              0.008220   \n",
       "std              2.870036            3.68228              0.686298   \n",
       "min            -10.700000            0.69000             -7.380000   \n",
       "25%              0.000000            2.00000              0.000000   \n",
       "50%              0.000000            3.85000              0.000000   \n",
       "75%              0.900000            6.57000              0.000000   \n",
       "max             37.700000           27.59000             14.520000   \n",
       "\n",
       "       atletas.media_num            FC            FD            FF  \\\n",
       "count       77247.000000  77247.000000  77247.000000  77247.000000   \n",
       "mean            1.711399      6.202312      1.381232      2.230326   \n",
       "std             2.162227      9.533346      2.893321      4.158997   \n",
       "min            -9.200000      0.000000      0.000000      0.000000   \n",
       "25%             0.000000      0.000000      0.000000      0.000000   \n",
       "50%             1.220000      2.000000      0.000000      0.000000   \n",
       "75%             3.000000      9.000000      1.000000      3.000000   \n",
       "max            22.700000    111.000000     33.000000     49.000000   \n",
       "\n",
       "                 FS             G             I  ...           ano  \\\n",
       "count  77247.000000  77247.000000  77247.000000  ...  77247.000000   \n",
       "mean       5.850441      0.473753      0.586405  ...   2018.976038   \n",
       "std        9.978102      1.432199      1.655079  ...      0.813075   \n",
       "min        0.000000      0.000000      0.000000  ...   2018.000000   \n",
       "25%        0.000000      0.000000      0.000000  ...   2018.000000   \n",
       "50%        1.000000      0.000000      0.000000  ...   2019.000000   \n",
       "75%        8.000000      0.000000      0.000000  ...   2020.000000   \n",
       "max      137.000000     93.000000     24.000000  ...   2020.000000   \n",
       "\n",
       "             rodada            PP            DP  atletas.jogos_num  \\\n",
       "count  77247.000000  77247.000000  77247.000000       24630.000000   \n",
       "mean      18.698189      0.015159      0.011884           6.520666   \n",
       "std       10.300301      0.126763      0.139122           7.090939   \n",
       "min        1.000000      0.000000      0.000000           0.000000   \n",
       "25%       10.000000      0.000000      0.000000           0.000000   \n",
       "50%       19.000000      0.000000      0.000000           4.000000   \n",
       "75%       28.000000      0.000000      0.000000          11.000000   \n",
       "max       36.000000      2.000000      4.000000          34.000000   \n",
       "\n",
       "                 PI            DS  proxima_rodada   Preco_outer  Pontos_outer  \n",
       "count  77247.000000  77247.000000    77247.000000  77247.000000  77247.000000  \n",
       "mean      16.208513      6.802970       19.698189      4.737710      1.151115  \n",
       "std       29.812697     11.498539       10.300301      3.682742      2.922899  \n",
       "min        0.000000      0.000000        2.000000      0.690000    -10.700000  \n",
       "25%        0.000000      0.000000       11.000000      2.000000      0.000000  \n",
       "50%        4.000000      1.000000       20.000000      3.840000      0.000000  \n",
       "75%       20.000000      9.000000       29.000000      6.580000      1.000000  \n",
       "max      372.000000    112.000000       37.000000     27.590000     37.700000  \n",
       "\n",
       "[8 rows x 28 columns]"
      ]
     },
     "execution_count": 812,
     "metadata": {},
     "output_type": "execute_result"
    }
   ],
   "source": [
    "cartola_df_final.describe()"
   ]
  },
  {
   "cell_type": "code",
   "execution_count": 813,
   "metadata": {},
   "outputs": [
    {
     "data": {
      "text/plain": [
       "<matplotlib.axes._subplots.AxesSubplot at 0x215c44c7d30>"
      ]
     },
     "execution_count": 813,
     "metadata": {},
     "output_type": "execute_result"
    },
    {
     "data": {
      "image/png": "[encoded data removed]",
      "text/plain": [
       "<Figure size 1008x216 with 3 Axes>"
      ]
     },
     "metadata": {
      "needs_background": "light"
     },
     "output_type": "display_data"
    }
   ],
   "source": [
    "msno.bar(cartola_df_final, figsize=(14, 3))"
   ]
  },
  {
   "cell_type": "code",
   "execution_count": 814,
   "metadata": {},
   "outputs": [
    {
     "data": {
      "text/html": [
       "<div>\n",
       "<style scoped>\n",
       "    .dataframe tbody tr th:only-of-type {\n",
       "        vertical-align: middle;\n",
       "    }\n",
       "\n",
       "    .dataframe tbody tr th {\n",
       "        vertical-align: top;\n",
       "    }\n",
       "\n",
       "    .dataframe thead th {\n",
       "        text-align: right;\n",
       "    }\n",
       "</style>\n",
       "<table border=\"1\" class=\"dataframe\">\n",
       "  <thead>\n",
       "    <tr style=\"text-align: right;\">\n",
       "      <th></th>\n",
       "      <th>atletas.nome</th>\n",
       "      <th>atletas.slug</th>\n",
       "      <th>atletas.apelido</th>\n",
       "      <th>atletas.foto</th>\n",
       "      <th>atletas.atleta_id</th>\n",
       "      <th>atletas.rodada_id</th>\n",
       "      <th>atletas.clube_id</th>\n",
       "      <th>atletas.posicao_id</th>\n",
       "      <th>atletas.status_id</th>\n",
       "      <th>atletas.pontos_num</th>\n",
       "      <th>...</th>\n",
       "      <th>PP</th>\n",
       "      <th>DP</th>\n",
       "      <th>atletas.jogos_num</th>\n",
       "      <th>PI</th>\n",
       "      <th>DS</th>\n",
       "      <th>proxima_rodada</th>\n",
       "      <th>key</th>\n",
       "      <th>Preco_outer</th>\n",
       "      <th>Pontos_outer</th>\n",
       "      <th>key_outer</th>\n",
       "    </tr>\n",
       "  </thead>\n",
       "  <tbody>\n",
       "    <tr>\n",
       "      <th>0</th>\n",
       "      <td>Matheus Ferraz Pereira</td>\n",
       "      <td>matheus-ferraz</td>\n",
       "      <td>Matheus Ferraz</td>\n",
       "      <td>https://s.glbimg.com/es/sde/f/2018/03/17/6d461...</td>\n",
       "      <td>38632</td>\n",
       "      <td>1</td>\n",
       "      <td>AME</td>\n",
       "      <td>zag</td>\n",
       "      <td>Nulo</td>\n",
       "      <td>0.0</td>\n",
       "      <td>...</td>\n",
       "      <td>0.0</td>\n",
       "      <td>0.0</td>\n",
       "      <td>NaN</td>\n",
       "      <td>0.0</td>\n",
       "      <td>0.0</td>\n",
       "      <td>2</td>\n",
       "      <td>386322018AME2</td>\n",
       "      <td>6.00</td>\n",
       "      <td>0.0</td>\n",
       "      <td>386322018AME2</td>\n",
       "    </tr>\n",
       "    <tr>\n",
       "      <th>1</th>\n",
       "      <td>Willian Lanes de Lima</td>\n",
       "      <td>lima</td>\n",
       "      <td>Lima</td>\n",
       "      <td>https://s.glbimg.com/es/sde/f/2018/03/17/3d9ef...</td>\n",
       "      <td>38506</td>\n",
       "      <td>1</td>\n",
       "      <td>AME</td>\n",
       "      <td>zag</td>\n",
       "      <td>Nulo</td>\n",
       "      <td>0.0</td>\n",
       "      <td>...</td>\n",
       "      <td>0.0</td>\n",
       "      <td>0.0</td>\n",
       "      <td>NaN</td>\n",
       "      <td>0.0</td>\n",
       "      <td>0.0</td>\n",
       "      <td>2</td>\n",
       "      <td>385062018AME2</td>\n",
       "      <td>5.00</td>\n",
       "      <td>0.0</td>\n",
       "      <td>385062018AME2</td>\n",
       "    </tr>\n",
       "    <tr>\n",
       "      <th>2</th>\n",
       "      <td>Rómulo Otero Vásquez</td>\n",
       "      <td>otero</td>\n",
       "      <td>Otero</td>\n",
       "      <td>https://s.glbimg.com/es/sde/f/2017/04/03/9fe40...</td>\n",
       "      <td>83004</td>\n",
       "      <td>1</td>\n",
       "      <td>ATL</td>\n",
       "      <td>mei</td>\n",
       "      <td>Provável</td>\n",
       "      <td>16.5</td>\n",
       "      <td>...</td>\n",
       "      <td>0.0</td>\n",
       "      <td>0.0</td>\n",
       "      <td>NaN</td>\n",
       "      <td>0.0</td>\n",
       "      <td>3.0</td>\n",
       "      <td>2</td>\n",
       "      <td>830042018ATL2</td>\n",
       "      <td>19.83</td>\n",
       "      <td>11.3</td>\n",
       "      <td>830042018ATL2</td>\n",
       "    </tr>\n",
       "    <tr>\n",
       "      <th>3</th>\n",
       "      <td>Diego Ribas da Cunha</td>\n",
       "      <td>diego</td>\n",
       "      <td>Diego</td>\n",
       "      <td>https://s.glbimg.com/es/sde/f/2017/08/16/3ba37...</td>\n",
       "      <td>38909</td>\n",
       "      <td>1</td>\n",
       "      <td>FLA</td>\n",
       "      <td>mei</td>\n",
       "      <td>Provável</td>\n",
       "      <td>0.8</td>\n",
       "      <td>...</td>\n",
       "      <td>0.0</td>\n",
       "      <td>0.0</td>\n",
       "      <td>NaN</td>\n",
       "      <td>5.0</td>\n",
       "      <td>1.0</td>\n",
       "      <td>2</td>\n",
       "      <td>389092018FLA2</td>\n",
       "      <td>10.89</td>\n",
       "      <td>0.0</td>\n",
       "      <td>389092018FLA2</td>\n",
       "    </tr>\n",
       "    <tr>\n",
       "      <th>4</th>\n",
       "      <td>Rodrigo Eduardo Costa Marinho</td>\n",
       "      <td>rodriguinho</td>\n",
       "      <td>Rodriguinho</td>\n",
       "      <td>https://s.glbimg.com/es/sde/f/2018/03/20/c125f...</td>\n",
       "      <td>61033</td>\n",
       "      <td>1</td>\n",
       "      <td>COR</td>\n",
       "      <td>mei</td>\n",
       "      <td>Provável</td>\n",
       "      <td>16.5</td>\n",
       "      <td>...</td>\n",
       "      <td>0.0</td>\n",
       "      <td>0.0</td>\n",
       "      <td>NaN</td>\n",
       "      <td>5.0</td>\n",
       "      <td>1.0</td>\n",
       "      <td>2</td>\n",
       "      <td>610332018COR2</td>\n",
       "      <td>27.59</td>\n",
       "      <td>15.9</td>\n",
       "      <td>610332018COR2</td>\n",
       "    </tr>\n",
       "  </tbody>\n",
       "</table>\n",
       "<p>5 rows × 40 columns</p>\n",
       "</div>"
      ],
      "text/plain": [
       "                    atletas.nome    atletas.slug atletas.apelido  \\\n",
       "0         Matheus Ferraz Pereira  matheus-ferraz  Matheus Ferraz   \n",
       "1          Willian Lanes de Lima            lima            Lima   \n",
       "2           Rómulo Otero Vásquez           otero           Otero   \n",
       "3           Diego Ribas da Cunha           diego           Diego   \n",
       "4  Rodrigo Eduardo Costa Marinho     rodriguinho     Rodriguinho   \n",
       "\n",
       "                                        atletas.foto atletas.atleta_id  \\\n",
       "0  https://s.glbimg.com/es/sde/f/2018/03/17/6d461...             38632   \n",
       "1  https://s.glbimg.com/es/sde/f/2018/03/17/3d9ef...             38506   \n",
       "2  https://s.glbimg.com/es/sde/f/2017/04/03/9fe40...             83004   \n",
       "3  https://s.glbimg.com/es/sde/f/2017/08/16/3ba37...             38909   \n",
       "4  https://s.glbimg.com/es/sde/f/2018/03/20/c125f...             61033   \n",
       "\n",
       "  atletas.rodada_id atletas.clube_id atletas.posicao_id atletas.status_id  \\\n",
       "0                 1              AME                zag              Nulo   \n",
       "1                 1              AME                zag              Nulo   \n",
       "2                 1              ATL                mei          Provável   \n",
       "3                 1              FLA                mei          Provável   \n",
       "4                 1              COR                mei          Provável   \n",
       "\n",
       "   atletas.pontos_num  ...   PP   DP  atletas.jogos_num   PI   DS  \\\n",
       "0                 0.0  ...  0.0  0.0                NaN  0.0  0.0   \n",
       "1                 0.0  ...  0.0  0.0                NaN  0.0  0.0   \n",
       "2                16.5  ...  0.0  0.0                NaN  0.0  3.0   \n",
       "3                 0.8  ...  0.0  0.0                NaN  5.0  1.0   \n",
       "4                16.5  ...  0.0  0.0                NaN  5.0  1.0   \n",
       "\n",
       "   proxima_rodada            key  Preco_outer  Pontos_outer      key_outer  \n",
       "0               2  386322018AME2         6.00           0.0  386322018AME2  \n",
       "1               2  385062018AME2         5.00           0.0  385062018AME2  \n",
       "2               2  830042018ATL2        19.83          11.3  830042018ATL2  \n",
       "3               2  389092018FLA2        10.89           0.0  389092018FLA2  \n",
       "4               2  610332018COR2        27.59          15.9  610332018COR2  \n",
       "\n",
       "[5 rows x 40 columns]"
      ]
     },
     "execution_count": 814,
     "metadata": {},
     "output_type": "execute_result"
    }
   ],
   "source": [
    "cartola_df_final.head()"
   ]
  },
  {
   "cell_type": "code",
   "execution_count": 815,
   "metadata": {},
   "outputs": [
    {
     "data": {
      "text/plain": [
       "Index(['atletas.nome', 'atletas.slug', 'atletas.apelido', 'atletas.foto',\n",
       "       'atletas.atleta_id', 'atletas.rodada_id', 'atletas.clube_id',\n",
       "       'atletas.posicao_id', 'atletas.status_id', 'atletas.pontos_num',\n",
       "       'atletas.preco_num', 'atletas.variacao_num', 'atletas.media_num',\n",
       "       'atletas.clube.id.full.name', 'FC', 'FD', 'FF', 'FS', 'G', 'I', 'CA',\n",
       "       'A', 'SG', 'DD', 'FT', 'GS', 'CV', 'GC', 'ano', 'rodada', 'PP', 'DP',\n",
       "       'atletas.jogos_num', 'PI', 'DS', 'proxima_rodada', 'key', 'Preco_outer',\n",
       "       'Pontos_outer', 'key_outer'],\n",
       "      dtype='object')"
      ]
     },
     "execution_count": 815,
     "metadata": {},
     "output_type": "execute_result"
    }
   ],
   "source": [
    "cartola_df_final.columns"
   ]
  },
  {
   "cell_type": "code",
   "execution_count": 818,
   "metadata": {},
   "outputs": [],
   "source": [
    "model_df = cartola_df_final.drop(columns=['atletas.nome','atletas.status_id', 'atletas.clube.id.full.name','atletas.slug', 'atletas.apelido', 'atletas.foto','atletas.atleta_id', 'atletas.rodada_id','atletas.jogos_num','proxima_rodada','key','key_outer'])"
   ]
  },
  {
   "cell_type": "code",
   "execution_count": 822,
   "metadata": {},
   "outputs": [],
   "source": [
    "model_df = model_df.drop(columns=['atletas.status_id'])"
   ]
  },
  {
   "cell_type": "code",
   "execution_count": 823,
   "metadata": {},
   "outputs": [
    {
     "data": {
      "text/plain": [
       "Index(['atletas.clube_id', 'atletas.posicao_id', 'atletas.pontos_num',\n",
       "       'atletas.preco_num', 'atletas.variacao_num', 'atletas.media_num', 'FC',\n",
       "       'FD', 'FF', 'FS', 'G', 'I', 'CA', 'A', 'SG', 'DD', 'FT', 'GS', 'CV',\n",
       "       'GC', 'ano', 'rodada', 'PP', 'DP', 'PI', 'DS', 'Preco_outer',\n",
       "       'Pontos_outer'],\n",
       "      dtype='object')"
      ]
     },
     "execution_count": 823,
     "metadata": {},
     "output_type": "execute_result"
    }
   ],
   "source": [
    "model_df.columns"
   ]
  },
  {
   "cell_type": "code",
   "execution_count": 824,
   "metadata": {},
   "outputs": [],
   "source": [
    "#one hot encoding\n",
    "model_df = pd.get_dummies(model_df,columns = [\"atletas.posicao_id\"],drop_first=True)"
   ]
  },
  {
   "cell_type": "code",
   "execution_count": 825,
   "metadata": {},
   "outputs": [
    {
     "data": {
      "text/html": [
       "<div>\n",
       "<style scoped>\n",
       "    .dataframe tbody tr th:only-of-type {\n",
       "        vertical-align: middle;\n",
       "    }\n",
       "\n",
       "    .dataframe tbody tr th {\n",
       "        vertical-align: top;\n",
       "    }\n",
       "\n",
       "    .dataframe thead th {\n",
       "        text-align: right;\n",
       "    }\n",
       "</style>\n",
       "<table border=\"1\" class=\"dataframe\">\n",
       "  <thead>\n",
       "    <tr style=\"text-align: right;\">\n",
       "      <th></th>\n",
       "      <th>atletas.clube_id</th>\n",
       "      <th>atletas.pontos_num</th>\n",
       "      <th>atletas.preco_num</th>\n",
       "      <th>atletas.variacao_num</th>\n",
       "      <th>atletas.media_num</th>\n",
       "      <th>FC</th>\n",
       "      <th>FD</th>\n",
       "      <th>FF</th>\n",
       "      <th>FS</th>\n",
       "      <th>G</th>\n",
       "      <th>...</th>\n",
       "      <th>DP</th>\n",
       "      <th>PI</th>\n",
       "      <th>DS</th>\n",
       "      <th>Preco_outer</th>\n",
       "      <th>Pontos_outer</th>\n",
       "      <th>atletas.posicao_id_gol</th>\n",
       "      <th>atletas.posicao_id_lat</th>\n",
       "      <th>atletas.posicao_id_mei</th>\n",
       "      <th>atletas.posicao_id_tec</th>\n",
       "      <th>atletas.posicao_id_zag</th>\n",
       "    </tr>\n",
       "  </thead>\n",
       "  <tbody>\n",
       "    <tr>\n",
       "      <th>0</th>\n",
       "      <td>AME</td>\n",
       "      <td>0.0</td>\n",
       "      <td>6.00</td>\n",
       "      <td>0.00</td>\n",
       "      <td>0.0</td>\n",
       "      <td>0.0</td>\n",
       "      <td>0.0</td>\n",
       "      <td>0.0</td>\n",
       "      <td>0.0</td>\n",
       "      <td>0.0</td>\n",
       "      <td>...</td>\n",
       "      <td>0.0</td>\n",
       "      <td>0.0</td>\n",
       "      <td>0.0</td>\n",
       "      <td>6.00</td>\n",
       "      <td>0.0</td>\n",
       "      <td>0</td>\n",
       "      <td>0</td>\n",
       "      <td>0</td>\n",
       "      <td>0</td>\n",
       "      <td>1</td>\n",
       "    </tr>\n",
       "    <tr>\n",
       "      <th>1</th>\n",
       "      <td>AME</td>\n",
       "      <td>0.0</td>\n",
       "      <td>5.00</td>\n",
       "      <td>0.00</td>\n",
       "      <td>0.0</td>\n",
       "      <td>0.0</td>\n",
       "      <td>0.0</td>\n",
       "      <td>0.0</td>\n",
       "      <td>0.0</td>\n",
       "      <td>0.0</td>\n",
       "      <td>...</td>\n",
       "      <td>0.0</td>\n",
       "      <td>0.0</td>\n",
       "      <td>0.0</td>\n",
       "      <td>5.00</td>\n",
       "      <td>0.0</td>\n",
       "      <td>0</td>\n",
       "      <td>0</td>\n",
       "      <td>0</td>\n",
       "      <td>0</td>\n",
       "      <td>1</td>\n",
       "    </tr>\n",
       "    <tr>\n",
       "      <th>2</th>\n",
       "      <td>ATL</td>\n",
       "      <td>16.5</td>\n",
       "      <td>14.81</td>\n",
       "      <td>9.81</td>\n",
       "      <td>16.5</td>\n",
       "      <td>1.0</td>\n",
       "      <td>2.0</td>\n",
       "      <td>2.0</td>\n",
       "      <td>2.0</td>\n",
       "      <td>1.0</td>\n",
       "      <td>...</td>\n",
       "      <td>0.0</td>\n",
       "      <td>0.0</td>\n",
       "      <td>3.0</td>\n",
       "      <td>19.83</td>\n",
       "      <td>11.3</td>\n",
       "      <td>0</td>\n",
       "      <td>0</td>\n",
       "      <td>1</td>\n",
       "      <td>0</td>\n",
       "      <td>0</td>\n",
       "    </tr>\n",
       "    <tr>\n",
       "      <th>3</th>\n",
       "      <td>FLA</td>\n",
       "      <td>0.8</td>\n",
       "      <td>10.89</td>\n",
       "      <td>-4.11</td>\n",
       "      <td>0.8</td>\n",
       "      <td>3.0</td>\n",
       "      <td>0.0</td>\n",
       "      <td>1.0</td>\n",
       "      <td>8.0</td>\n",
       "      <td>0.0</td>\n",
       "      <td>...</td>\n",
       "      <td>0.0</td>\n",
       "      <td>5.0</td>\n",
       "      <td>1.0</td>\n",
       "      <td>10.89</td>\n",
       "      <td>0.0</td>\n",
       "      <td>0</td>\n",
       "      <td>0</td>\n",
       "      <td>1</td>\n",
       "      <td>0</td>\n",
       "      <td>0</td>\n",
       "    </tr>\n",
       "    <tr>\n",
       "      <th>4</th>\n",
       "      <td>COR</td>\n",
       "      <td>16.5</td>\n",
       "      <td>23.08</td>\n",
       "      <td>6.08</td>\n",
       "      <td>16.5</td>\n",
       "      <td>1.0</td>\n",
       "      <td>0.0</td>\n",
       "      <td>0.0</td>\n",
       "      <td>2.0</td>\n",
       "      <td>2.0</td>\n",
       "      <td>...</td>\n",
       "      <td>0.0</td>\n",
       "      <td>5.0</td>\n",
       "      <td>1.0</td>\n",
       "      <td>27.59</td>\n",
       "      <td>15.9</td>\n",
       "      <td>0</td>\n",
       "      <td>0</td>\n",
       "      <td>1</td>\n",
       "      <td>0</td>\n",
       "      <td>0</td>\n",
       "    </tr>\n",
       "  </tbody>\n",
       "</table>\n",
       "<p>5 rows × 32 columns</p>\n",
       "</div>"
      ],
      "text/plain": [
       "  atletas.clube_id  atletas.pontos_num  atletas.preco_num  \\\n",
       "0              AME                 0.0               6.00   \n",
       "1              AME                 0.0               5.00   \n",
       "2              ATL                16.5              14.81   \n",
       "3              FLA                 0.8              10.89   \n",
       "4              COR                16.5              23.08   \n",
       "\n",
       "   atletas.variacao_num  atletas.media_num   FC   FD   FF   FS    G  ...   DP  \\\n",
       "0                  0.00                0.0  0.0  0.0  0.0  0.0  0.0  ...  0.0   \n",
       "1                  0.00                0.0  0.0  0.0  0.0  0.0  0.0  ...  0.0   \n",
       "2                  9.81               16.5  1.0  2.0  2.0  2.0  1.0  ...  0.0   \n",
       "3                 -4.11                0.8  3.0  0.0  1.0  8.0  0.0  ...  0.0   \n",
       "4                  6.08               16.5  1.0  0.0  0.0  2.0  2.0  ...  0.0   \n",
       "\n",
       "    PI   DS  Preco_outer  Pontos_outer  atletas.posicao_id_gol  \\\n",
       "0  0.0  0.0         6.00           0.0                       0   \n",
       "1  0.0  0.0         5.00           0.0                       0   \n",
       "2  0.0  3.0        19.83          11.3                       0   \n",
       "3  5.0  1.0        10.89           0.0                       0   \n",
       "4  5.0  1.0        27.59          15.9                       0   \n",
       "\n",
       "   atletas.posicao_id_lat  atletas.posicao_id_mei  atletas.posicao_id_tec  \\\n",
       "0                       0                       0                       0   \n",
       "1                       0                       0                       0   \n",
       "2                       0                       1                       0   \n",
       "3                       0                       1                       0   \n",
       "4                       0                       1                       0   \n",
       "\n",
       "   atletas.posicao_id_zag  \n",
       "0                       1  \n",
       "1                       1  \n",
       "2                       0  \n",
       "3                       0  \n",
       "4                       0  \n",
       "\n",
       "[5 rows x 32 columns]"
      ]
     },
     "execution_count": 825,
     "metadata": {},
     "output_type": "execute_result"
    }
   ],
   "source": [
    "model_df.head()"
   ]
  },
  {
   "cell_type": "code",
   "execution_count": 826,
   "metadata": {},
   "outputs": [],
   "source": [
    "model_df.drop(columns='atletas.clube_id',inplace=True)"
   ]
  },
  {
   "cell_type": "code",
   "execution_count": 827,
   "metadata": {},
   "outputs": [
    {
     "data": {
      "text/plain": [
       "Index(['atletas.pontos_num', 'atletas.preco_num', 'atletas.variacao_num',\n",
       "       'atletas.media_num', 'FC', 'FD', 'FF', 'FS', 'G', 'I', 'CA', 'A', 'SG',\n",
       "       'DD', 'FT', 'GS', 'CV', 'GC', 'ano', 'rodada', 'PP', 'DP', 'PI', 'DS',\n",
       "       'Preco_outer', 'Pontos_outer', 'atletas.posicao_id_gol',\n",
       "       'atletas.posicao_id_lat', 'atletas.posicao_id_mei',\n",
       "       'atletas.posicao_id_tec', 'atletas.posicao_id_zag'],\n",
       "      dtype='object')"
      ]
     },
     "execution_count": 827,
     "metadata": {},
     "output_type": "execute_result"
    }
   ],
   "source": [
    "model_df.columns"
   ]
  },
  {
   "cell_type": "code",
   "execution_count": 828,
   "metadata": {},
   "outputs": [],
   "source": [
    "#prepare column of interest \n",
    "train = model_df.drop(columns=['Pontos_outer','Preco_outer'])\n",
    "test = model_df.loc[:,['Pontos_outer']]"
   ]
  },
  {
   "cell_type": "code",
   "execution_count": 829,
   "metadata": {},
   "outputs": [],
   "source": [
    "# Prepare test and train datasets\n",
    "x_train, x_test ,y_train ,y_test = train_test_split(train, test, random_state = 42, test_size=0.3)"
   ]
  },
  {
   "cell_type": "code",
   "execution_count": 852,
   "metadata": {},
   "outputs": [
    {
     "data": {
      "text/plain": [
       "Index(['atletas.pontos_num', 'atletas.preco_num', 'atletas.variacao_num',\n",
       "       'atletas.media_num', 'FC', 'FD', 'FF', 'FS', 'G', 'I', 'CA', 'A', 'SG',\n",
       "       'DD', 'FT', 'GS', 'CV', 'GC', 'ano', 'rodada', 'PP', 'DP', 'PI', 'DS',\n",
       "       'atletas.posicao_id_gol', 'atletas.posicao_id_lat',\n",
       "       'atletas.posicao_id_mei', 'atletas.posicao_id_tec',\n",
       "       'atletas.posicao_id_zag'],\n",
       "      dtype='object')"
      ]
     },
     "execution_count": 852,
     "metadata": {},
     "output_type": "execute_result"
    }
   ],
   "source": [
    "x_train.columns"
   ]
  },
  {
   "cell_type": "code",
   "execution_count": 831,
   "metadata": {},
   "outputs": [
    {
     "name": "stderr",
     "output_type": "stream",
     "text": [
      "<ipython-input-831-56e96a80bb1a>:3: DataConversionWarning: A column-vector y was passed when a 1d array was expected. Please change the shape of y to (n_samples,), for example using ravel().\n",
      "  forest.fit(x_train, y_train)\n"
     ]
    },
    {
     "data": {
      "text/plain": [
       "RandomForestRegressor()"
      ]
     },
     "execution_count": 831,
     "metadata": {},
     "output_type": "execute_result"
    }
   ],
   "source": [
    "#Train model\n",
    "forest = RandomForestRegressor()\n",
    "forest.fit(x_train, y_train)"
   ]
  },
  {
   "cell_type": "code",
   "execution_count": 832,
   "metadata": {},
   "outputs": [],
   "source": [
    "y_pred = forest.predict(x_test)"
   ]
  },
  {
   "cell_type": "code",
   "execution_count": 833,
   "metadata": {},
   "outputs": [
    {
     "data": {
      "text/plain": [
       "array([0.789     , 3.6096    , 0.23848379, ..., 0.03      , 2.019     ,\n",
       "       0.204     ])"
      ]
     },
     "execution_count": 833,
     "metadata": {},
     "output_type": "execute_result"
    }
   ],
   "source": [
    "y_pred"
   ]
  },
  {
   "cell_type": "code",
   "execution_count": 834,
   "metadata": {},
   "outputs": [
    {
     "name": "stdout",
     "output_type": "stream",
     "text": [
      "Parameters currently in use:\n",
      "\n",
      "{'bootstrap': True, 'ccp_alpha': 0.0, 'criterion': 'mse', 'max_depth': None, 'max_features': 'auto', 'max_leaf_nodes': None, 'max_samples': None, 'min_impurity_decrease': 0.0, 'min_impurity_split': None, 'min_samples_leaf': 1, 'min_samples_split': 2, 'min_weight_fraction_leaf': 0.0, 'n_estimators': 100, 'n_jobs': None, 'oob_score': False, 'random_state': None, 'verbose': 0, 'warm_start': False}\n"
     ]
    }
   ],
   "source": [
    "print('Parameters currently in use:\\n')\n",
    "print(forest.get_params())"
   ]
  },
  {
   "cell_type": "code",
   "execution_count": 835,
   "metadata": {},
   "outputs": [],
   "source": [
    "#params for tunning\n",
    "params = { 'max_features': range(2,10),# maximum amount of features a tree can choose from when splitting a node\n",
    "    'max_depth':range(20,46,2),# maximum depth of the trees\n",
    "    'min_samples_split':range(60,100,5), # minumum number of samples a node needs to split\n",
    "    'min_samples_leaf':range(5,15), # minumin number of samples per leaf\n",
    "    'bootstrap':[True,False], #unique random dataset for each tree\n",
    "    'n_estimators': [100, 200, 300, 400,500]\n",
    "} "
   ]
  },
  {
   "cell_type": "code",
   "execution_count": 836,
   "metadata": {},
   "outputs": [],
   "source": [
    "#hyperparameter tuning\n",
    "rf_random = RandomizedSearchCV(forest,param_distributions =params,cv=5,verbose=2,n_jobs=-1,n_iter=100)"
   ]
  },
  {
   "cell_type": "code",
   "execution_count": 837,
   "metadata": {},
   "outputs": [
    {
     "name": "stdout",
     "output_type": "stream",
     "text": [
      "Fitting 5 folds for each of 100 candidates, totalling 500 fits\n"
     ]
    },
    {
     "name": "stderr",
     "output_type": "stream",
     "text": [
      "[Parallel(n_jobs=-1)]: Using backend LokyBackend with 4 concurrent workers.\n",
      "[Parallel(n_jobs=-1)]: Done  33 tasks      | elapsed:  8.0min\n",
      "[Parallel(n_jobs=-1)]: Done 154 tasks      | elapsed: 30.7min\n",
      "[Parallel(n_jobs=-1)]: Done 357 tasks      | elapsed: 71.9min\n",
      "[Parallel(n_jobs=-1)]: Done 500 out of 500 | elapsed: 108.7min finished\n",
      "C:\\ProgramData\\Anaconda3\\lib\\site-packages\\sklearn\\model_selection\\_search.py:765: DataConversionWarning: A column-vector y was passed when a 1d array was expected. Please change the shape of y to (n_samples,), for example using ravel().\n",
      "  self.best_estimator_.fit(X, y, **fit_params)\n"
     ]
    },
    {
     "data": {
      "text/plain": [
       "RandomizedSearchCV(cv=5, estimator=RandomForestRegressor(), n_iter=100,\n",
       "                   n_jobs=-1,\n",
       "                   param_distributions={'bootstrap': [True, False],\n",
       "                                        'max_depth': range(20, 46, 2),\n",
       "                                        'max_features': range(2, 10),\n",
       "                                        'min_samples_leaf': range(5, 15),\n",
       "                                        'min_samples_split': range(60, 100, 5),\n",
       "                                        'n_estimators': [100, 200, 300, 400,\n",
       "                                                         500]},\n",
       "                   verbose=2)"
      ]
     },
     "execution_count": 837,
     "metadata": {},
     "output_type": "execute_result"
    }
   ],
   "source": [
    "rf_random.fit(x_train, y_train)"
   ]
  },
  {
   "cell_type": "code",
   "execution_count": 838,
   "metadata": {},
   "outputs": [
    {
     "data": {
      "text/plain": [
       "{'n_estimators': 500,\n",
       " 'min_samples_split': 60,\n",
       " 'min_samples_leaf': 5,\n",
       " 'max_features': 3,\n",
       " 'max_depth': 36,\n",
       " 'bootstrap': True}"
      ]
     },
     "execution_count": 838,
     "metadata": {},
     "output_type": "execute_result"
    }
   ],
   "source": [
    "#Best parameters for teh model\n",
    "rf_random.best_params_"
   ]
  },
  {
   "cell_type": "code",
   "execution_count": 839,
   "metadata": {},
   "outputs": [],
   "source": [
    "#Predict values for the Randomized search model \n",
    "random_y_pred = rf_random.predict(x_test) "
   ]
  },
  {
   "cell_type": "code",
   "execution_count": 840,
   "metadata": {},
   "outputs": [
    {
     "data": {
      "text/plain": [
       "23175"
      ]
     },
     "execution_count": 840,
     "metadata": {},
     "output_type": "execute_result"
    }
   ],
   "source": [
    "len(random_y_pred)"
   ]
  },
  {
   "cell_type": "code",
   "execution_count": 841,
   "metadata": {},
   "outputs": [
    {
     "name": "stdout",
     "output_type": "stream",
     "text": [
      "Randomized search:\n",
      "mae: 1.99\n"
     ]
    }
   ],
   "source": [
    "#check model performance\n",
    "mae= evaluate(rf_random,x_test,np.array(y_test))\n",
    "print(f'Randomized search:\\nmae: {mae}')"
   ]
  },
  {
   "cell_type": "code",
   "execution_count": 842,
   "metadata": {},
   "outputs": [
    {
     "name": "stdout",
     "output_type": "stream",
     "text": [
      "Forest:\n",
      "mae: 2.06\n"
     ]
    }
   ],
   "source": [
    "#check model performance\n",
    "mae= evaluate(forest,x_test,np.array(y_test))\n",
    "print(f'Forest:\\nmae: {mae}')"
   ]
  },
  {
   "cell_type": "code",
   "execution_count": 843,
   "metadata": {},
   "outputs": [],
   "source": [
    "with open('model','wb') as f:\n",
    "    pickle.dump(rf_random,f)"
   ]
  },
  {
   "cell_type": "code",
   "execution_count": 844,
   "metadata": {},
   "outputs": [],
   "source": [
    "with open('model','rb') as f:\n",
    "    model_2 = pickle.load(f)"
   ]
  },
  {
   "cell_type": "code",
   "execution_count": 845,
   "metadata": {},
   "outputs": [
    {
     "data": {
      "text/plain": [
       "array([0.86731944, 3.84605221, 0.19450109, ..., 0.50004674, 2.91903604,\n",
       "       0.28075051])"
      ]
     },
     "execution_count": 845,
     "metadata": {},
     "output_type": "execute_result"
    }
   ],
   "source": [
    "model_2.predict(x_test)"
   ]
  },
  {
   "cell_type": "code",
   "execution_count": 846,
   "metadata": {},
   "outputs": [
    {
     "data": {
      "text/plain": [
       "['model.joblib']"
      ]
     },
     "execution_count": 846,
     "metadata": {},
     "output_type": "execute_result"
    }
   ],
   "source": [
    "dump(rf_random, 'model.joblib')"
   ]
  },
  {
   "cell_type": "code",
   "execution_count": 847,
   "metadata": {},
   "outputs": [],
   "source": [
    "model_3 = load('model.joblib') "
   ]
  },
  {
   "cell_type": "code",
   "execution_count": 848,
   "metadata": {},
   "outputs": [
    {
     "data": {
      "text/plain": [
       "array([0.86731944, 3.84605221, 0.19450109, ..., 0.50004674, 2.91903604,\n",
       "       0.28075051])"
      ]
     },
     "execution_count": 848,
     "metadata": {},
     "output_type": "execute_result"
    }
   ],
   "source": [
    "model_3.predict(x_test)"
   ]
  }
 ],
 "metadata": {
  "kernelspec": {
   "display_name": "Python 3",
   "language": "python",
   "name": "python3"
  },
  "language_info": {
   "codemirror_mode": {
    "name": "ipython",
    "version": 3
   },
   "file_extension": ".py",
   "mimetype": "text/x-python",
   "name": "python",
   "nbconvert_exporter": "python",
   "pygments_lexer": "ipython3",
   "version": "3.8.3"
  }
 },
 "nbformat": 4,
 "nbformat_minor": 4
}
