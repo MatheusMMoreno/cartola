{
 "cells": [
  {
   "cell_type": "code",
   "execution_count": 258,
   "metadata": {},
   "outputs": [],
   "source": [
    "#Basic Packages\n",
    "import pandas as pd\n",
    "from pandas.io.json import json_normalize\n",
    "import numpy as np\n",
    "import matplotlib.pyplot as plt\n",
    "import seaborn as sns\n",
    "\n",
    "#html communication package\n",
    "import requests as r\n",
    "\n",
    "#import Beautiful Soup\n",
    "import bs4\n",
    "\n",
    "#import json library\n",
    "import json\n",
    "\n",
    "#Saving Model\n",
    "import pickle\n",
    "from joblib import dump, load\n",
    "\n",
    "#missing \n",
    "import missingno as msno\n",
    "\n",
    "# date\n",
    "import datetime"
   ]
  },
  {
   "cell_type": "code",
   "execution_count": 259,
   "metadata": {},
   "outputs": [
    {
     "name": "stdout",
     "output_type": "stream",
     "text": [
      "C:\\Users\\Matheus\\Documents\\projetos_github\\AI\\cartola\n"
     ]
    }
   ],
   "source": [
    "%cd C:\\\\Users\\\\Matheus\\\\Documents\\\\projetos_github\\\\AI\\\\cartola"
   ]
  },
  {
   "cell_type": "code",
   "execution_count": 260,
   "metadata": {},
   "outputs": [
    {
     "name": "stdout",
     "output_type": "stream",
     "text": [
      " O volume na unidade C não tem nome.\n",
      " O Número de Série do Volume é 0E60-8BBF\n",
      "\n",
      " Pasta de C:\\Users\\Matheus\\Documents\\projetos_github\\AI\\cartola\n",
      "\n",
      "03/08/2021  11:37 PM    <DIR>          .\n",
      "03/08/2021  11:37 PM    <DIR>          ..\n",
      "03/06/2021  06:01 PM    <DIR>          .ipynb_checkpoints\n",
      "02/25/2021  12:02 AM             4,230 baixados_icone.png\n",
      "03/08/2021  11:31 PM           219,230 Cartola.ipynb\n",
      "02/24/2021  10:38 PM            72,189 cartola.jpg\n",
      "02/24/2021  11:48 PM           311,916 cartola3.jpg\n",
      "02/24/2021  11:47 PM             5,830 cartola_2.jpg\n",
      "02/25/2021  09:05 AM           629,493 cartola_FC.pbix\n",
      "02/21/2021  06:59 PM         8,508,037 Cartola_historic_data.txt\n",
      "03/08/2021  11:37 PM           108,858 Cartola_Prediction.ipynb\n",
      "02/25/2021  01:32 AM    <DIR>          data\n",
      "02/25/2021  07:56 AM       267,769,274 model\n",
      "02/25/2021  07:56 AM       267,777,521 model.joblib\n",
      "02/25/2021  08:56 AM            97,958 rodada_38_pred.xlsx\n",
      "02/25/2021  08:54 AM           102,679 rodada_atual.xlsx\n",
      "02/22/2021  11:53 PM           130,435 test.xlsx\n",
      "              13 arquivo(s)    545,737,650 bytes\n",
      "               4 pasta(s)   99,398,926,336 bytes disponíveis\n"
     ]
    }
   ],
   "source": [
    "!dir"
   ]
  },
  {
   "cell_type": "markdown",
   "metadata": {},
   "source": [
    "<h1 style=\"color:gray;\"> Get Current Round Data </h1>"
   ]
  },
  {
   "cell_type": "markdown",
   "metadata": {},
   "source": [
    "#Current Round API\n",
    "\n",
    "https://api.cartolafc.globo.com/rodadas\n",
    "https://api.cartolafc.globo.com/clubes\n",
    "https://api.cartolafc.globo.com/partidas\n",
    "https://api.cartolafc.globo.com/atletas/mercado"
   ]
  },
  {
   "cell_type": "code",
   "execution_count": 261,
   "metadata": {},
   "outputs": [],
   "source": [
    "round =  r.get('https://api.cartolafc.globo.com/atletas/mercado')"
   ]
  },
  {
   "cell_type": "code",
   "execution_count": 262,
   "metadata": {},
   "outputs": [
    {
     "data": {
      "text/plain": [
       "bytes"
      ]
     },
     "execution_count": 262,
     "metadata": {},
     "output_type": "execute_result"
    }
   ],
   "source": [
    "type(round.content)"
   ]
  },
  {
   "cell_type": "code",
   "execution_count": 263,
   "metadata": {},
   "outputs": [],
   "source": [
    "round_json = json.loads(round.content)"
   ]
  },
  {
   "cell_type": "code",
   "execution_count": 264,
   "metadata": {},
   "outputs": [
    {
     "data": {
      "text/plain": [
       "dict_keys(['atletas', 'clubes', 'posicoes', 'status'])"
      ]
     },
     "execution_count": 264,
     "metadata": {},
     "output_type": "execute_result"
    }
   ],
   "source": [
    "round_json.keys()"
   ]
  },
  {
   "cell_type": "code",
   "execution_count": 265,
   "metadata": {},
   "outputs": [
    {
     "data": {
      "text/html": [
       "<div>\n",
       "<style scoped>\n",
       "    .dataframe tbody tr th:only-of-type {\n",
       "        vertical-align: middle;\n",
       "    }\n",
       "\n",
       "    .dataframe tbody tr th {\n",
       "        vertical-align: top;\n",
       "    }\n",
       "\n",
       "    .dataframe thead th {\n",
       "        text-align: right;\n",
       "    }\n",
       "</style>\n",
       "<table border=\"1\" class=\"dataframe\">\n",
       "  <thead>\n",
       "    <tr style=\"text-align: right;\">\n",
       "      <th></th>\n",
       "      <th>nome</th>\n",
       "      <th>slug</th>\n",
       "      <th>apelido</th>\n",
       "      <th>foto</th>\n",
       "      <th>atleta_id</th>\n",
       "      <th>rodada_id</th>\n",
       "      <th>clube_id</th>\n",
       "      <th>posicao_id</th>\n",
       "      <th>status_id</th>\n",
       "      <th>pontos_num</th>\n",
       "      <th>...</th>\n",
       "      <th>scout.FF</th>\n",
       "      <th>scout.FS</th>\n",
       "      <th>scout.FT</th>\n",
       "      <th>scout.G</th>\n",
       "      <th>scout.I</th>\n",
       "      <th>scout.PP</th>\n",
       "      <th>scout.CA</th>\n",
       "      <th>scout.DS</th>\n",
       "      <th>scout.CV</th>\n",
       "      <th>scout.GC</th>\n",
       "    </tr>\n",
       "  </thead>\n",
       "  <tbody>\n",
       "    <tr>\n",
       "      <th>0</th>\n",
       "      <td>Marcelo Ribeiro Cabo</td>\n",
       "      <td>marcelo-cabo</td>\n",
       "      <td>Marcelo Cabo</td>\n",
       "      <td>https://s.glbimg.com/es/sde/f/2020/11/10/d6819...</td>\n",
       "      <td>37333</td>\n",
       "      <td>38</td>\n",
       "      <td>373</td>\n",
       "      <td>6</td>\n",
       "      <td>7</td>\n",
       "      <td>3.87</td>\n",
       "      <td>...</td>\n",
       "      <td>NaN</td>\n",
       "      <td>NaN</td>\n",
       "      <td>NaN</td>\n",
       "      <td>NaN</td>\n",
       "      <td>NaN</td>\n",
       "      <td>NaN</td>\n",
       "      <td>NaN</td>\n",
       "      <td>NaN</td>\n",
       "      <td>NaN</td>\n",
       "      <td>NaN</td>\n",
       "    </tr>\n",
       "    <tr>\n",
       "      <th>1</th>\n",
       "      <td>Júlio César de Souza Santos</td>\n",
       "      <td>julio-cesar</td>\n",
       "      <td>Júlio César</td>\n",
       "      <td>https://s.glbimg.com/es/sde/f/2020/07/28/d011e...</td>\n",
       "      <td>38133</td>\n",
       "      <td>38</td>\n",
       "      <td>280</td>\n",
       "      <td>1</td>\n",
       "      <td>6</td>\n",
       "      <td>0.00</td>\n",
       "      <td>...</td>\n",
       "      <td>NaN</td>\n",
       "      <td>NaN</td>\n",
       "      <td>NaN</td>\n",
       "      <td>NaN</td>\n",
       "      <td>NaN</td>\n",
       "      <td>NaN</td>\n",
       "      <td>NaN</td>\n",
       "      <td>NaN</td>\n",
       "      <td>NaN</td>\n",
       "      <td>NaN</td>\n",
       "    </tr>\n",
       "    <tr>\n",
       "      <th>2</th>\n",
       "      <td>Augusto Sérgio Ferreira</td>\n",
       "      <td>guto-ferreira</td>\n",
       "      <td>Guto Ferreira</td>\n",
       "      <td>https://s.glbimg.com/es/sde/f/2020/07/19/37fe3...</td>\n",
       "      <td>37245</td>\n",
       "      <td>38</td>\n",
       "      <td>354</td>\n",
       "      <td>6</td>\n",
       "      <td>7</td>\n",
       "      <td>2.05</td>\n",
       "      <td>...</td>\n",
       "      <td>NaN</td>\n",
       "      <td>NaN</td>\n",
       "      <td>NaN</td>\n",
       "      <td>NaN</td>\n",
       "      <td>NaN</td>\n",
       "      <td>NaN</td>\n",
       "      <td>NaN</td>\n",
       "      <td>NaN</td>\n",
       "      <td>NaN</td>\n",
       "      <td>NaN</td>\n",
       "    </tr>\n",
       "    <tr>\n",
       "      <th>3</th>\n",
       "      <td>João Alves de Assis Silva</td>\n",
       "      <td>jo</td>\n",
       "      <td>Jô</td>\n",
       "      <td>https://s.glbimg.com/es/sde/f/2020/07/21/71eb3...</td>\n",
       "      <td>38138</td>\n",
       "      <td>38</td>\n",
       "      <td>264</td>\n",
       "      <td>5</td>\n",
       "      <td>6</td>\n",
       "      <td>-0.50</td>\n",
       "      <td>...</td>\n",
       "      <td>6.0</td>\n",
       "      <td>22.0</td>\n",
       "      <td>1.0</td>\n",
       "      <td>5.0</td>\n",
       "      <td>9.0</td>\n",
       "      <td>1.0</td>\n",
       "      <td>NaN</td>\n",
       "      <td>NaN</td>\n",
       "      <td>NaN</td>\n",
       "      <td>NaN</td>\n",
       "    </tr>\n",
       "    <tr>\n",
       "      <th>4</th>\n",
       "      <td>Rafael Martiniano de Miranda Moura</td>\n",
       "      <td>rafael-moura</td>\n",
       "      <td>Rafael Moura</td>\n",
       "      <td>https://s.glbimg.com/es/sde/f/2020/08/26/6c384...</td>\n",
       "      <td>37655</td>\n",
       "      <td>38</td>\n",
       "      <td>290</td>\n",
       "      <td>5</td>\n",
       "      <td>7</td>\n",
       "      <td>3.50</td>\n",
       "      <td>...</td>\n",
       "      <td>28.0</td>\n",
       "      <td>28.0</td>\n",
       "      <td>NaN</td>\n",
       "      <td>9.0</td>\n",
       "      <td>20.0</td>\n",
       "      <td>NaN</td>\n",
       "      <td>8.0</td>\n",
       "      <td>13.0</td>\n",
       "      <td>NaN</td>\n",
       "      <td>NaN</td>\n",
       "    </tr>\n",
       "  </tbody>\n",
       "</table>\n",
       "<p>5 rows × 32 columns</p>\n",
       "</div>"
      ],
      "text/plain": [
       "                                 nome           slug        apelido  \\\n",
       "0                Marcelo Ribeiro Cabo   marcelo-cabo   Marcelo Cabo   \n",
       "1         Júlio César de Souza Santos    julio-cesar    Júlio César   \n",
       "2             Augusto Sérgio Ferreira  guto-ferreira  Guto Ferreira   \n",
       "3           João Alves de Assis Silva             jo             Jô   \n",
       "4  Rafael Martiniano de Miranda Moura   rafael-moura   Rafael Moura   \n",
       "\n",
       "                                                foto  atleta_id  rodada_id  \\\n",
       "0  https://s.glbimg.com/es/sde/f/2020/11/10/d6819...      37333         38   \n",
       "1  https://s.glbimg.com/es/sde/f/2020/07/28/d011e...      38133         38   \n",
       "2  https://s.glbimg.com/es/sde/f/2020/07/19/37fe3...      37245         38   \n",
       "3  https://s.glbimg.com/es/sde/f/2020/07/21/71eb3...      38138         38   \n",
       "4  https://s.glbimg.com/es/sde/f/2020/08/26/6c384...      37655         38   \n",
       "\n",
       "   clube_id  posicao_id  status_id  pontos_num  ...  scout.FF  scout.FS  \\\n",
       "0       373           6          7        3.87  ...       NaN       NaN   \n",
       "1       280           1          6        0.00  ...       NaN       NaN   \n",
       "2       354           6          7        2.05  ...       NaN       NaN   \n",
       "3       264           5          6       -0.50  ...       6.0      22.0   \n",
       "4       290           5          7        3.50  ...      28.0      28.0   \n",
       "\n",
       "   scout.FT  scout.G  scout.I  scout.PP  scout.CA  scout.DS  scout.CV  \\\n",
       "0       NaN      NaN      NaN       NaN       NaN       NaN       NaN   \n",
       "1       NaN      NaN      NaN       NaN       NaN       NaN       NaN   \n",
       "2       NaN      NaN      NaN       NaN       NaN       NaN       NaN   \n",
       "3       1.0      5.0      9.0       1.0       NaN       NaN       NaN   \n",
       "4       NaN      9.0     20.0       NaN       8.0      13.0       NaN   \n",
       "\n",
       "   scout.GC  \n",
       "0       NaN  \n",
       "1       NaN  \n",
       "2       NaN  \n",
       "3       NaN  \n",
       "4       NaN  \n",
       "\n",
       "[5 rows x 32 columns]"
      ]
     },
     "execution_count": 265,
     "metadata": {},
     "output_type": "execute_result"
    }
   ],
   "source": [
    "atletas_df = pd.json_normalize(round_json['atletas'])\n",
    "atletas_df.head(n=5)"
   ]
  },
  {
   "cell_type": "code",
   "execution_count": 266,
   "metadata": {},
   "outputs": [
    {
     "data": {
      "text/html": [
       "<div>\n",
       "<style scoped>\n",
       "    .dataframe tbody tr th:only-of-type {\n",
       "        vertical-align: middle;\n",
       "    }\n",
       "\n",
       "    .dataframe tbody tr th {\n",
       "        vertical-align: top;\n",
       "    }\n",
       "\n",
       "    .dataframe thead th {\n",
       "        text-align: right;\n",
       "    }\n",
       "</style>\n",
       "<table border=\"1\" class=\"dataframe\">\n",
       "  <thead>\n",
       "    <tr style=\"text-align: right;\">\n",
       "      <th></th>\n",
       "      <th>60x60</th>\n",
       "      <th>45x45</th>\n",
       "      <th>30x30</th>\n",
       "    </tr>\n",
       "  </thead>\n",
       "  <tbody>\n",
       "    <tr>\n",
       "      <th>0</th>\n",
       "      <td>https://s.glbimg.com/es/sde/f/organizacoes/201...</td>\n",
       "      <td>https://s.glbimg.com/es/sde/f/organizacoes/201...</td>\n",
       "      <td>https://s.glbimg.com/es/sde/f/organizacoes/201...</td>\n",
       "    </tr>\n",
       "    <tr>\n",
       "      <th>1</th>\n",
       "      <td>https://s.glbimg.com/es/sde/f/organizacoes/201...</td>\n",
       "      <td>https://s.glbimg.com/es/sde/f/organizacoes/201...</td>\n",
       "      <td>https://s.glbimg.com/es/sde/f/organizacoes/201...</td>\n",
       "    </tr>\n",
       "    <tr>\n",
       "      <th>2</th>\n",
       "      <td>https://s.glbimg.com/es/sde/f/organizacoes/201...</td>\n",
       "      <td>https://s.glbimg.com/es/sde/f/organizacoes/201...</td>\n",
       "      <td>https://s.glbimg.com/es/sde/f/organizacoes/201...</td>\n",
       "    </tr>\n",
       "    <tr>\n",
       "      <th>3</th>\n",
       "      <td>https://s.glbimg.com/es/sde/f/organizacoes/201...</td>\n",
       "      <td>https://s.glbimg.com/es/sde/f/organizacoes/201...</td>\n",
       "      <td>https://s.glbimg.com/es/sde/f/organizacoes/201...</td>\n",
       "    </tr>\n",
       "    <tr>\n",
       "      <th>4</th>\n",
       "      <td>https://s.glbimg.com/es/sde/f/organizacoes/201...</td>\n",
       "      <td>https://s.glbimg.com/es/sde/f/organizacoes/201...</td>\n",
       "      <td>https://s.glbimg.com/es/sde/f/organizacoes/201...</td>\n",
       "    </tr>\n",
       "  </tbody>\n",
       "</table>\n",
       "</div>"
      ],
      "text/plain": [
       "                                               60x60  \\\n",
       "0  https://s.glbimg.com/es/sde/f/organizacoes/201...   \n",
       "1  https://s.glbimg.com/es/sde/f/organizacoes/201...   \n",
       "2  https://s.glbimg.com/es/sde/f/organizacoes/201...   \n",
       "3  https://s.glbimg.com/es/sde/f/organizacoes/201...   \n",
       "4  https://s.glbimg.com/es/sde/f/organizacoes/201...   \n",
       "\n",
       "                                               45x45  \\\n",
       "0  https://s.glbimg.com/es/sde/f/organizacoes/201...   \n",
       "1  https://s.glbimg.com/es/sde/f/organizacoes/201...   \n",
       "2  https://s.glbimg.com/es/sde/f/organizacoes/201...   \n",
       "3  https://s.glbimg.com/es/sde/f/organizacoes/201...   \n",
       "4  https://s.glbimg.com/es/sde/f/organizacoes/201...   \n",
       "\n",
       "                                               30x30  \n",
       "0  https://s.glbimg.com/es/sde/f/organizacoes/201...  \n",
       "1  https://s.glbimg.com/es/sde/f/organizacoes/201...  \n",
       "2  https://s.glbimg.com/es/sde/f/organizacoes/201...  \n",
       "3  https://s.glbimg.com/es/sde/f/organizacoes/201...  \n",
       "4  https://s.glbimg.com/es/sde/f/organizacoes/201...  "
      ]
     },
     "execution_count": 266,
     "metadata": {},
     "output_type": "execute_result"
    }
   ],
   "source": [
    "escudos_df =pd.DataFrame(pd.json_normalize((pd.DataFrame(round_json['clubes']).transpose()['escudos'])))\n",
    "escudos_df.head(n=5)"
   ]
  },
  {
   "cell_type": "code",
   "execution_count": 267,
   "metadata": {},
   "outputs": [
    {
     "data": {
      "text/html": [
       "<div>\n",
       "<style scoped>\n",
       "    .dataframe tbody tr th:only-of-type {\n",
       "        vertical-align: middle;\n",
       "    }\n",
       "\n",
       "    .dataframe tbody tr th {\n",
       "        vertical-align: top;\n",
       "    }\n",
       "\n",
       "    .dataframe thead th {\n",
       "        text-align: right;\n",
       "    }\n",
       "</style>\n",
       "<table border=\"1\" class=\"dataframe\">\n",
       "  <thead>\n",
       "    <tr style=\"text-align: right;\">\n",
       "      <th></th>\n",
       "      <th>index</th>\n",
       "      <th>id</th>\n",
       "      <th>nome</th>\n",
       "      <th>abreviacao</th>\n",
       "      <th>escudos</th>\n",
       "      <th>nome_fantasia</th>\n",
       "      <th>60x60</th>\n",
       "      <th>45x45</th>\n",
       "      <th>30x30</th>\n",
       "    </tr>\n",
       "  </thead>\n",
       "  <tbody>\n",
       "    <tr>\n",
       "      <th>0</th>\n",
       "      <td>262</td>\n",
       "      <td>262</td>\n",
       "      <td>Flamengo</td>\n",
       "      <td>FLA</td>\n",
       "      <td>{'60x60': 'https://s.glbimg.com/es/sde/f/organ...</td>\n",
       "      <td>Flamengo</td>\n",
       "      <td>https://s.glbimg.com/es/sde/f/organizacoes/201...</td>\n",
       "      <td>https://s.glbimg.com/es/sde/f/organizacoes/201...</td>\n",
       "      <td>https://s.glbimg.com/es/sde/f/organizacoes/201...</td>\n",
       "    </tr>\n",
       "    <tr>\n",
       "      <th>1</th>\n",
       "      <td>263</td>\n",
       "      <td>263</td>\n",
       "      <td>Botafogo</td>\n",
       "      <td>BOT</td>\n",
       "      <td>{'60x60': 'https://s.glbimg.com/es/sde/f/organ...</td>\n",
       "      <td>Botafogo</td>\n",
       "      <td>https://s.glbimg.com/es/sde/f/organizacoes/201...</td>\n",
       "      <td>https://s.glbimg.com/es/sde/f/organizacoes/201...</td>\n",
       "      <td>https://s.glbimg.com/es/sde/f/organizacoes/201...</td>\n",
       "    </tr>\n",
       "    <tr>\n",
       "      <th>2</th>\n",
       "      <td>264</td>\n",
       "      <td>264</td>\n",
       "      <td>Corinthians</td>\n",
       "      <td>COR</td>\n",
       "      <td>{'60x60': 'https://s.glbimg.com/es/sde/f/organ...</td>\n",
       "      <td>Corinthians</td>\n",
       "      <td>https://s.glbimg.com/es/sde/f/organizacoes/201...</td>\n",
       "      <td>https://s.glbimg.com/es/sde/f/organizacoes/201...</td>\n",
       "      <td>https://s.glbimg.com/es/sde/f/organizacoes/201...</td>\n",
       "    </tr>\n",
       "    <tr>\n",
       "      <th>3</th>\n",
       "      <td>265</td>\n",
       "      <td>265</td>\n",
       "      <td>Bahia</td>\n",
       "      <td>BAH</td>\n",
       "      <td>{'60x60': 'https://s.glbimg.com/es/sde/f/organ...</td>\n",
       "      <td>Bahia</td>\n",
       "      <td>https://s.glbimg.com/es/sde/f/organizacoes/201...</td>\n",
       "      <td>https://s.glbimg.com/es/sde/f/organizacoes/201...</td>\n",
       "      <td>https://s.glbimg.com/es/sde/f/organizacoes/201...</td>\n",
       "    </tr>\n",
       "    <tr>\n",
       "      <th>4</th>\n",
       "      <td>266</td>\n",
       "      <td>266</td>\n",
       "      <td>Fluminense</td>\n",
       "      <td>FLU</td>\n",
       "      <td>{'60x60': 'https://s.glbimg.com/es/sde/f/organ...</td>\n",
       "      <td>Fluminense</td>\n",
       "      <td>https://s.glbimg.com/es/sde/f/organizacoes/201...</td>\n",
       "      <td>https://s.glbimg.com/es/sde/f/organizacoes/201...</td>\n",
       "      <td>https://s.glbimg.com/es/sde/f/organizacoes/201...</td>\n",
       "    </tr>\n",
       "  </tbody>\n",
       "</table>\n",
       "</div>"
      ],
      "text/plain": [
       "  index   id         nome abreviacao  \\\n",
       "0   262  262     Flamengo        FLA   \n",
       "1   263  263     Botafogo        BOT   \n",
       "2   264  264  Corinthians        COR   \n",
       "3   265  265        Bahia        BAH   \n",
       "4   266  266   Fluminense        FLU   \n",
       "\n",
       "                                             escudos nome_fantasia  \\\n",
       "0  {'60x60': 'https://s.glbimg.com/es/sde/f/organ...      Flamengo   \n",
       "1  {'60x60': 'https://s.glbimg.com/es/sde/f/organ...      Botafogo   \n",
       "2  {'60x60': 'https://s.glbimg.com/es/sde/f/organ...   Corinthians   \n",
       "3  {'60x60': 'https://s.glbimg.com/es/sde/f/organ...         Bahia   \n",
       "4  {'60x60': 'https://s.glbimg.com/es/sde/f/organ...    Fluminense   \n",
       "\n",
       "                                               60x60  \\\n",
       "0  https://s.glbimg.com/es/sde/f/organizacoes/201...   \n",
       "1  https://s.glbimg.com/es/sde/f/organizacoes/201...   \n",
       "2  https://s.glbimg.com/es/sde/f/organizacoes/201...   \n",
       "3  https://s.glbimg.com/es/sde/f/organizacoes/201...   \n",
       "4  https://s.glbimg.com/es/sde/f/organizacoes/201...   \n",
       "\n",
       "                                               45x45  \\\n",
       "0  https://s.glbimg.com/es/sde/f/organizacoes/201...   \n",
       "1  https://s.glbimg.com/es/sde/f/organizacoes/201...   \n",
       "2  https://s.glbimg.com/es/sde/f/organizacoes/201...   \n",
       "3  https://s.glbimg.com/es/sde/f/organizacoes/201...   \n",
       "4  https://s.glbimg.com/es/sde/f/organizacoes/201...   \n",
       "\n",
       "                                               30x30  \n",
       "0  https://s.glbimg.com/es/sde/f/organizacoes/201...  \n",
       "1  https://s.glbimg.com/es/sde/f/organizacoes/201...  \n",
       "2  https://s.glbimg.com/es/sde/f/organizacoes/201...  \n",
       "3  https://s.glbimg.com/es/sde/f/organizacoes/201...  \n",
       "4  https://s.glbimg.com/es/sde/f/organizacoes/201...  "
      ]
     },
     "execution_count": 267,
     "metadata": {},
     "output_type": "execute_result"
    }
   ],
   "source": [
    "clubes_df =pd.DataFrame(round_json['clubes']).transpose().reset_index()\n",
    "clubes_df= pd.merge(clubes_df,escudos_df, left_index= True,right_index=True)\n",
    "clubes_df.head(n=5)"
   ]
  },
  {
   "cell_type": "code",
   "execution_count": 268,
   "metadata": {},
   "outputs": [
    {
     "data": {
      "text/html": [
       "<div>\n",
       "<style scoped>\n",
       "    .dataframe tbody tr th:only-of-type {\n",
       "        vertical-align: middle;\n",
       "    }\n",
       "\n",
       "    .dataframe tbody tr th {\n",
       "        vertical-align: top;\n",
       "    }\n",
       "\n",
       "    .dataframe thead th {\n",
       "        text-align: right;\n",
       "    }\n",
       "</style>\n",
       "<table border=\"1\" class=\"dataframe\">\n",
       "  <thead>\n",
       "    <tr style=\"text-align: right;\">\n",
       "      <th></th>\n",
       "      <th>id</th>\n",
       "      <th>nome</th>\n",
       "      <th>abreviacao</th>\n",
       "    </tr>\n",
       "  </thead>\n",
       "  <tbody>\n",
       "    <tr>\n",
       "      <th>1</th>\n",
       "      <td>1</td>\n",
       "      <td>Goleiro</td>\n",
       "      <td>gol</td>\n",
       "    </tr>\n",
       "    <tr>\n",
       "      <th>2</th>\n",
       "      <td>2</td>\n",
       "      <td>Lateral</td>\n",
       "      <td>lat</td>\n",
       "    </tr>\n",
       "    <tr>\n",
       "      <th>3</th>\n",
       "      <td>3</td>\n",
       "      <td>Zagueiro</td>\n",
       "      <td>zag</td>\n",
       "    </tr>\n",
       "    <tr>\n",
       "      <th>4</th>\n",
       "      <td>4</td>\n",
       "      <td>Meia</td>\n",
       "      <td>mei</td>\n",
       "    </tr>\n",
       "    <tr>\n",
       "      <th>5</th>\n",
       "      <td>5</td>\n",
       "      <td>Atacante</td>\n",
       "      <td>ata</td>\n",
       "    </tr>\n",
       "  </tbody>\n",
       "</table>\n",
       "</div>"
      ],
      "text/plain": [
       "  id      nome abreviacao\n",
       "1  1   Goleiro        gol\n",
       "2  2   Lateral        lat\n",
       "3  3  Zagueiro        zag\n",
       "4  4      Meia        mei\n",
       "5  5  Atacante        ata"
      ]
     },
     "execution_count": 268,
     "metadata": {},
     "output_type": "execute_result"
    }
   ],
   "source": [
    "posicoes_df =pd.DataFrame(round_json['posicoes']).transpose()\n",
    "posicoes_df.head(n=5)"
   ]
  },
  {
   "cell_type": "code",
   "execution_count": 269,
   "metadata": {},
   "outputs": [
    {
     "data": {
      "text/html": [
       "<div>\n",
       "<style scoped>\n",
       "    .dataframe tbody tr th:only-of-type {\n",
       "        vertical-align: middle;\n",
       "    }\n",
       "\n",
       "    .dataframe tbody tr th {\n",
       "        vertical-align: top;\n",
       "    }\n",
       "\n",
       "    .dataframe thead th {\n",
       "        text-align: right;\n",
       "    }\n",
       "</style>\n",
       "<table border=\"1\" class=\"dataframe\">\n",
       "  <thead>\n",
       "    <tr style=\"text-align: right;\">\n",
       "      <th></th>\n",
       "      <th>id</th>\n",
       "      <th>nome</th>\n",
       "    </tr>\n",
       "  </thead>\n",
       "  <tbody>\n",
       "    <tr>\n",
       "      <th>2</th>\n",
       "      <td>2</td>\n",
       "      <td>Dúvida</td>\n",
       "    </tr>\n",
       "    <tr>\n",
       "      <th>3</th>\n",
       "      <td>3</td>\n",
       "      <td>Suspenso</td>\n",
       "    </tr>\n",
       "    <tr>\n",
       "      <th>5</th>\n",
       "      <td>5</td>\n",
       "      <td>Contundido</td>\n",
       "    </tr>\n",
       "    <tr>\n",
       "      <th>6</th>\n",
       "      <td>6</td>\n",
       "      <td>Nulo</td>\n",
       "    </tr>\n",
       "    <tr>\n",
       "      <th>7</th>\n",
       "      <td>7</td>\n",
       "      <td>Provável</td>\n",
       "    </tr>\n",
       "  </tbody>\n",
       "</table>\n",
       "</div>"
      ],
      "text/plain": [
       "  id        nome\n",
       "2  2      Dúvida\n",
       "3  3    Suspenso\n",
       "5  5  Contundido\n",
       "6  6        Nulo\n",
       "7  7    Provável"
      ]
     },
     "execution_count": 269,
     "metadata": {},
     "output_type": "execute_result"
    }
   ],
   "source": [
    "status_df = pd.DataFrame(round_json['status']).transpose()\n",
    "status_df.head(n=5)"
   ]
  },
  {
   "cell_type": "code",
   "execution_count": 270,
   "metadata": {},
   "outputs": [],
   "source": [
    "atletas_df =atletas_df.merge(clubes_df, left_on='clube_id', right_on='id')\n",
    "atletas_df = atletas_df.merge(posicoes_df,left_on ='posicao_id', right_on = 'id' )"
   ]
  },
  {
   "cell_type": "code",
   "execution_count": 271,
   "metadata": {},
   "outputs": [
    {
     "data": {
      "text/plain": [
       "Index(['nome_x', 'slug', 'apelido', 'foto', 'atleta_id', 'rodada_id',\n",
       "       'clube_id', 'posicao_id', 'status_id', 'pontos_num', 'preco_num',\n",
       "       'variacao_num', 'media_num', 'jogos_num', 'scout.DD', 'scout.DP',\n",
       "       'scout.GS', 'scout.PI', 'scout.SG', 'scout.A', 'scout.FC', 'scout.FD',\n",
       "       'scout.FF', 'scout.FS', 'scout.FT', 'scout.G', 'scout.I', 'scout.PP',\n",
       "       'scout.CA', 'scout.DS', 'scout.CV', 'scout.GC', 'index', 'id_x',\n",
       "       'nome_y', 'abreviacao_x', 'escudos', 'nome_fantasia', '60x60', '45x45',\n",
       "       '30x30', 'id_y', 'nome', 'abreviacao_y'],\n",
       "      dtype='object')"
      ]
     },
     "execution_count": 271,
     "metadata": {},
     "output_type": "execute_result"
    }
   ],
   "source": [
    "atletas_df.columns"
   ]
  },
  {
   "cell_type": "code",
   "execution_count": 272,
   "metadata": {},
   "outputs": [
    {
     "data": {
      "text/html": [
       "<div>\n",
       "<style scoped>\n",
       "    .dataframe tbody tr th:only-of-type {\n",
       "        vertical-align: middle;\n",
       "    }\n",
       "\n",
       "    .dataframe tbody tr th {\n",
       "        vertical-align: top;\n",
       "    }\n",
       "\n",
       "    .dataframe thead th {\n",
       "        text-align: right;\n",
       "    }\n",
       "</style>\n",
       "<table border=\"1\" class=\"dataframe\">\n",
       "  <thead>\n",
       "    <tr style=\"text-align: right;\">\n",
       "      <th></th>\n",
       "      <th>nome_x</th>\n",
       "      <th>slug</th>\n",
       "      <th>apelido</th>\n",
       "      <th>foto</th>\n",
       "      <th>atleta_id</th>\n",
       "      <th>rodada_id</th>\n",
       "      <th>clube_id</th>\n",
       "      <th>posicao_id</th>\n",
       "      <th>status_id</th>\n",
       "      <th>pontos_num</th>\n",
       "      <th>...</th>\n",
       "      <th>nome_y</th>\n",
       "      <th>abreviacao_x</th>\n",
       "      <th>escudos</th>\n",
       "      <th>nome_fantasia</th>\n",
       "      <th>60x60</th>\n",
       "      <th>45x45</th>\n",
       "      <th>30x30</th>\n",
       "      <th>id_y</th>\n",
       "      <th>nome</th>\n",
       "      <th>abreviacao_y</th>\n",
       "    </tr>\n",
       "  </thead>\n",
       "  <tbody>\n",
       "    <tr>\n",
       "      <th>0</th>\n",
       "      <td>Marcelo Ribeiro Cabo</td>\n",
       "      <td>marcelo-cabo</td>\n",
       "      <td>Marcelo Cabo</td>\n",
       "      <td>https://s.glbimg.com/es/sde/f/2020/11/10/d6819...</td>\n",
       "      <td>37333</td>\n",
       "      <td>38</td>\n",
       "      <td>373</td>\n",
       "      <td>6</td>\n",
       "      <td>7</td>\n",
       "      <td>3.87</td>\n",
       "      <td>...</td>\n",
       "      <td>Atlético-GO</td>\n",
       "      <td>ACG</td>\n",
       "      <td>{'60x60': 'https://s.glbimg.com/es/sde/f/organ...</td>\n",
       "      <td>Atlético-GO</td>\n",
       "      <td>https://s.glbimg.com/es/sde/f/organizacoes/202...</td>\n",
       "      <td>https://s.glbimg.com/es/sde/f/organizacoes/202...</td>\n",
       "      <td>https://s.glbimg.com/es/sde/f/organizacoes/202...</td>\n",
       "      <td>6</td>\n",
       "      <td>Técnico</td>\n",
       "      <td>tec</td>\n",
       "    </tr>\n",
       "    <tr>\n",
       "      <th>1</th>\n",
       "      <td>Maurício Nogueira Barbieri</td>\n",
       "      <td>mauricio-barbieri</td>\n",
       "      <td>Maurício Barbieri</td>\n",
       "      <td>https://s.glbimg.com/es/sde/f/2020/09/04/e02bb...</td>\n",
       "      <td>82792</td>\n",
       "      <td>38</td>\n",
       "      <td>280</td>\n",
       "      <td>6</td>\n",
       "      <td>7</td>\n",
       "      <td>4.17</td>\n",
       "      <td>...</td>\n",
       "      <td>Bragantino</td>\n",
       "      <td>BGT</td>\n",
       "      <td>{'60x60': 'https://s.glbimg.com/es/sde/f/organ...</td>\n",
       "      <td>Bragantino</td>\n",
       "      <td>https://s.glbimg.com/es/sde/f/organizacoes/202...</td>\n",
       "      <td>https://s.glbimg.com/es/sde/f/organizacoes/202...</td>\n",
       "      <td>https://s.glbimg.com/es/sde/f/organizacoes/202...</td>\n",
       "      <td>6</td>\n",
       "      <td>Técnico</td>\n",
       "      <td>tec</td>\n",
       "    </tr>\n",
       "  </tbody>\n",
       "</table>\n",
       "<p>2 rows × 44 columns</p>\n",
       "</div>"
      ],
      "text/plain": [
       "                       nome_x               slug            apelido  \\\n",
       "0        Marcelo Ribeiro Cabo       marcelo-cabo       Marcelo Cabo   \n",
       "1  Maurício Nogueira Barbieri  mauricio-barbieri  Maurício Barbieri   \n",
       "\n",
       "                                                foto  atleta_id  rodada_id  \\\n",
       "0  https://s.glbimg.com/es/sde/f/2020/11/10/d6819...      37333         38   \n",
       "1  https://s.glbimg.com/es/sde/f/2020/09/04/e02bb...      82792         38   \n",
       "\n",
       "  clube_id posicao_id  status_id  pontos_num  ...       nome_y  abreviacao_x  \\\n",
       "0      373          6          7        3.87  ...  Atlético-GO           ACG   \n",
       "1      280          6          7        4.17  ...   Bragantino           BGT   \n",
       "\n",
       "                                             escudos  nome_fantasia  \\\n",
       "0  {'60x60': 'https://s.glbimg.com/es/sde/f/organ...    Atlético-GO   \n",
       "1  {'60x60': 'https://s.glbimg.com/es/sde/f/organ...     Bragantino   \n",
       "\n",
       "                                               60x60  \\\n",
       "0  https://s.glbimg.com/es/sde/f/organizacoes/202...   \n",
       "1  https://s.glbimg.com/es/sde/f/organizacoes/202...   \n",
       "\n",
       "                                               45x45  \\\n",
       "0  https://s.glbimg.com/es/sde/f/organizacoes/202...   \n",
       "1  https://s.glbimg.com/es/sde/f/organizacoes/202...   \n",
       "\n",
       "                                               30x30  id_y     nome  \\\n",
       "0  https://s.glbimg.com/es/sde/f/organizacoes/202...     6  Técnico   \n",
       "1  https://s.glbimg.com/es/sde/f/organizacoes/202...     6  Técnico   \n",
       "\n",
       "   abreviacao_y  \n",
       "0           tec  \n",
       "1           tec  \n",
       "\n",
       "[2 rows x 44 columns]"
      ]
     },
     "execution_count": 272,
     "metadata": {},
     "output_type": "execute_result"
    }
   ],
   "source": [
    "atletas_df.head(2)"
   ]
  },
  {
   "cell_type": "code",
   "execution_count": 273,
   "metadata": {},
   "outputs": [],
   "source": [
    "atletas_df.columns=['nome_atleta', 'slug', 'apelido', 'foto', 'atleta_id', 'rodada',\n",
    "       'clube_id', 'posicao_id', 'status_id', 'atletas.pontos_num', 'atletas.preco_num',\n",
    "       'atletas.variacao_num', 'atletas.media_num', 'jogos_num', 'DD', 'DP',\n",
    "       'GS', 'PI', 'SG', 'A', 'FC', 'FD',\n",
    "       'FF', 'FS', 'FT', 'G', 'I', 'PP',\n",
    "       'CA', 'DS', 'CV', 'GC', 'index', 'id_x',\n",
    "       'nome_y', 'abreviacao_x', 'escudos', 'nome_fantasia', '60x60', '45x45',\n",
    "       '30x30', 'id_y', 'nome', 'atletas.posicao_id']"
   ]
  },
  {
   "cell_type": "code",
   "execution_count": 274,
   "metadata": {},
   "outputs": [
    {
     "data": {
      "text/html": [
       "<div>\n",
       "<style scoped>\n",
       "    .dataframe tbody tr th:only-of-type {\n",
       "        vertical-align: middle;\n",
       "    }\n",
       "\n",
       "    .dataframe tbody tr th {\n",
       "        vertical-align: top;\n",
       "    }\n",
       "\n",
       "    .dataframe thead th {\n",
       "        text-align: right;\n",
       "    }\n",
       "</style>\n",
       "<table border=\"1\" class=\"dataframe\">\n",
       "  <thead>\n",
       "    <tr style=\"text-align: right;\">\n",
       "      <th></th>\n",
       "      <th>nome_atleta</th>\n",
       "      <th>slug</th>\n",
       "      <th>apelido</th>\n",
       "      <th>foto</th>\n",
       "      <th>atleta_id</th>\n",
       "      <th>rodada</th>\n",
       "      <th>clube_id</th>\n",
       "      <th>posicao_id</th>\n",
       "      <th>status_id</th>\n",
       "      <th>atletas.pontos_num</th>\n",
       "      <th>...</th>\n",
       "      <th>nome_y</th>\n",
       "      <th>abreviacao_x</th>\n",
       "      <th>escudos</th>\n",
       "      <th>nome_fantasia</th>\n",
       "      <th>60x60</th>\n",
       "      <th>45x45</th>\n",
       "      <th>30x30</th>\n",
       "      <th>id_y</th>\n",
       "      <th>nome</th>\n",
       "      <th>atletas.posicao_id</th>\n",
       "    </tr>\n",
       "  </thead>\n",
       "  <tbody>\n",
       "    <tr>\n",
       "      <th>0</th>\n",
       "      <td>Marcelo Ribeiro Cabo</td>\n",
       "      <td>marcelo-cabo</td>\n",
       "      <td>Marcelo Cabo</td>\n",
       "      <td>https://s.glbimg.com/es/sde/f/2020/11/10/d6819...</td>\n",
       "      <td>37333</td>\n",
       "      <td>38</td>\n",
       "      <td>373</td>\n",
       "      <td>6</td>\n",
       "      <td>7</td>\n",
       "      <td>3.87</td>\n",
       "      <td>...</td>\n",
       "      <td>Atlético-GO</td>\n",
       "      <td>ACG</td>\n",
       "      <td>{'60x60': 'https://s.glbimg.com/es/sde/f/organ...</td>\n",
       "      <td>Atlético-GO</td>\n",
       "      <td>https://s.glbimg.com/es/sde/f/organizacoes/202...</td>\n",
       "      <td>https://s.glbimg.com/es/sde/f/organizacoes/202...</td>\n",
       "      <td>https://s.glbimg.com/es/sde/f/organizacoes/202...</td>\n",
       "      <td>6</td>\n",
       "      <td>Técnico</td>\n",
       "      <td>tec</td>\n",
       "    </tr>\n",
       "    <tr>\n",
       "      <th>1</th>\n",
       "      <td>Maurício Nogueira Barbieri</td>\n",
       "      <td>mauricio-barbieri</td>\n",
       "      <td>Maurício Barbieri</td>\n",
       "      <td>https://s.glbimg.com/es/sde/f/2020/09/04/e02bb...</td>\n",
       "      <td>82792</td>\n",
       "      <td>38</td>\n",
       "      <td>280</td>\n",
       "      <td>6</td>\n",
       "      <td>7</td>\n",
       "      <td>4.17</td>\n",
       "      <td>...</td>\n",
       "      <td>Bragantino</td>\n",
       "      <td>BGT</td>\n",
       "      <td>{'60x60': 'https://s.glbimg.com/es/sde/f/organ...</td>\n",
       "      <td>Bragantino</td>\n",
       "      <td>https://s.glbimg.com/es/sde/f/organizacoes/202...</td>\n",
       "      <td>https://s.glbimg.com/es/sde/f/organizacoes/202...</td>\n",
       "      <td>https://s.glbimg.com/es/sde/f/organizacoes/202...</td>\n",
       "      <td>6</td>\n",
       "      <td>Técnico</td>\n",
       "      <td>tec</td>\n",
       "    </tr>\n",
       "    <tr>\n",
       "      <th>2</th>\n",
       "      <td>Augusto Sérgio Ferreira</td>\n",
       "      <td>guto-ferreira</td>\n",
       "      <td>Guto Ferreira</td>\n",
       "      <td>https://s.glbimg.com/es/sde/f/2020/07/19/37fe3...</td>\n",
       "      <td>37245</td>\n",
       "      <td>38</td>\n",
       "      <td>354</td>\n",
       "      <td>6</td>\n",
       "      <td>7</td>\n",
       "      <td>2.05</td>\n",
       "      <td>...</td>\n",
       "      <td>Ceará</td>\n",
       "      <td>CEA</td>\n",
       "      <td>{'60x60': 'https://s.glbimg.com/es/sde/f/organ...</td>\n",
       "      <td>Ceará</td>\n",
       "      <td>https://s.glbimg.com/es/sde/f/organizacoes/201...</td>\n",
       "      <td>https://s.glbimg.com/es/sde/f/organizacoes/201...</td>\n",
       "      <td>https://s.glbimg.com/es/sde/f/organizacoes/201...</td>\n",
       "      <td>6</td>\n",
       "      <td>Técnico</td>\n",
       "      <td>tec</td>\n",
       "    </tr>\n",
       "    <tr>\n",
       "      <th>3</th>\n",
       "      <td>Vagner Carmo Mancini</td>\n",
       "      <td>vagner-mancini</td>\n",
       "      <td>Vagner Mancini</td>\n",
       "      <td>https://s.glbimg.com/es/sde/f/2020/10/17/872ed...</td>\n",
       "      <td>39850</td>\n",
       "      <td>38</td>\n",
       "      <td>264</td>\n",
       "      <td>6</td>\n",
       "      <td>7</td>\n",
       "      <td>5.11</td>\n",
       "      <td>...</td>\n",
       "      <td>Corinthians</td>\n",
       "      <td>COR</td>\n",
       "      <td>{'60x60': 'https://s.glbimg.com/es/sde/f/organ...</td>\n",
       "      <td>Corinthians</td>\n",
       "      <td>https://s.glbimg.com/es/sde/f/organizacoes/201...</td>\n",
       "      <td>https://s.glbimg.com/es/sde/f/organizacoes/201...</td>\n",
       "      <td>https://s.glbimg.com/es/sde/f/organizacoes/201...</td>\n",
       "      <td>6</td>\n",
       "      <td>Técnico</td>\n",
       "      <td>tec</td>\n",
       "    </tr>\n",
       "    <tr>\n",
       "      <th>4</th>\n",
       "      <td>Glauber Ramos da Silva</td>\n",
       "      <td>glauber-ramos</td>\n",
       "      <td>Glauber Ramos</td>\n",
       "      <td>https://s.glbimg.com/es/sde/f/2020/08/21/ef5db...</td>\n",
       "      <td>109638</td>\n",
       "      <td>38</td>\n",
       "      <td>290</td>\n",
       "      <td>6</td>\n",
       "      <td>7</td>\n",
       "      <td>3.94</td>\n",
       "      <td>...</td>\n",
       "      <td>Goiás</td>\n",
       "      <td>GOI</td>\n",
       "      <td>{'60x60': 'https://s.glbimg.com/es/sde/f/organ...</td>\n",
       "      <td>Goiás</td>\n",
       "      <td>https://s.glbimg.com/es/sde/f/organizacoes/201...</td>\n",
       "      <td>https://s.glbimg.com/es/sde/f/organizacoes/201...</td>\n",
       "      <td>https://s.glbimg.com/es/sde/f/organizacoes/201...</td>\n",
       "      <td>6</td>\n",
       "      <td>Técnico</td>\n",
       "      <td>tec</td>\n",
       "    </tr>\n",
       "  </tbody>\n",
       "</table>\n",
       "<p>5 rows × 44 columns</p>\n",
       "</div>"
      ],
      "text/plain": [
       "                  nome_atleta               slug            apelido  \\\n",
       "0        Marcelo Ribeiro Cabo       marcelo-cabo       Marcelo Cabo   \n",
       "1  Maurício Nogueira Barbieri  mauricio-barbieri  Maurício Barbieri   \n",
       "2     Augusto Sérgio Ferreira      guto-ferreira      Guto Ferreira   \n",
       "3        Vagner Carmo Mancini     vagner-mancini     Vagner Mancini   \n",
       "4      Glauber Ramos da Silva      glauber-ramos      Glauber Ramos   \n",
       "\n",
       "                                                foto  atleta_id  rodada  \\\n",
       "0  https://s.glbimg.com/es/sde/f/2020/11/10/d6819...      37333      38   \n",
       "1  https://s.glbimg.com/es/sde/f/2020/09/04/e02bb...      82792      38   \n",
       "2  https://s.glbimg.com/es/sde/f/2020/07/19/37fe3...      37245      38   \n",
       "3  https://s.glbimg.com/es/sde/f/2020/10/17/872ed...      39850      38   \n",
       "4  https://s.glbimg.com/es/sde/f/2020/08/21/ef5db...     109638      38   \n",
       "\n",
       "  clube_id posicao_id  status_id  atletas.pontos_num  ...       nome_y  \\\n",
       "0      373          6          7                3.87  ...  Atlético-GO   \n",
       "1      280          6          7                4.17  ...   Bragantino   \n",
       "2      354          6          7                2.05  ...        Ceará   \n",
       "3      264          6          7                5.11  ...  Corinthians   \n",
       "4      290          6          7                3.94  ...        Goiás   \n",
       "\n",
       "   abreviacao_x                                            escudos  \\\n",
       "0           ACG  {'60x60': 'https://s.glbimg.com/es/sde/f/organ...   \n",
       "1           BGT  {'60x60': 'https://s.glbimg.com/es/sde/f/organ...   \n",
       "2           CEA  {'60x60': 'https://s.glbimg.com/es/sde/f/organ...   \n",
       "3           COR  {'60x60': 'https://s.glbimg.com/es/sde/f/organ...   \n",
       "4           GOI  {'60x60': 'https://s.glbimg.com/es/sde/f/organ...   \n",
       "\n",
       "   nome_fantasia                                              60x60  \\\n",
       "0    Atlético-GO  https://s.glbimg.com/es/sde/f/organizacoes/202...   \n",
       "1     Bragantino  https://s.glbimg.com/es/sde/f/organizacoes/202...   \n",
       "2          Ceará  https://s.glbimg.com/es/sde/f/organizacoes/201...   \n",
       "3    Corinthians  https://s.glbimg.com/es/sde/f/organizacoes/201...   \n",
       "4          Goiás  https://s.glbimg.com/es/sde/f/organizacoes/201...   \n",
       "\n",
       "                                               45x45  \\\n",
       "0  https://s.glbimg.com/es/sde/f/organizacoes/202...   \n",
       "1  https://s.glbimg.com/es/sde/f/organizacoes/202...   \n",
       "2  https://s.glbimg.com/es/sde/f/organizacoes/201...   \n",
       "3  https://s.glbimg.com/es/sde/f/organizacoes/201...   \n",
       "4  https://s.glbimg.com/es/sde/f/organizacoes/201...   \n",
       "\n",
       "                                               30x30  id_y     nome  \\\n",
       "0  https://s.glbimg.com/es/sde/f/organizacoes/202...     6  Técnico   \n",
       "1  https://s.glbimg.com/es/sde/f/organizacoes/202...     6  Técnico   \n",
       "2  https://s.glbimg.com/es/sde/f/organizacoes/201...     6  Técnico   \n",
       "3  https://s.glbimg.com/es/sde/f/organizacoes/201...     6  Técnico   \n",
       "4  https://s.glbimg.com/es/sde/f/organizacoes/201...     6  Técnico   \n",
       "\n",
       "   atletas.posicao_id  \n",
       "0                 tec  \n",
       "1                 tec  \n",
       "2                 tec  \n",
       "3                 tec  \n",
       "4                 tec  \n",
       "\n",
       "[5 rows x 44 columns]"
      ]
     },
     "execution_count": 274,
     "metadata": {},
     "output_type": "execute_result"
    }
   ],
   "source": [
    "atletas_df.head(n=5)"
   ]
  },
  {
   "cell_type": "code",
   "execution_count": 275,
   "metadata": {},
   "outputs": [],
   "source": [
    "atletas_df_pred =atletas_df.copy()"
   ]
  },
  {
   "cell_type": "code",
   "execution_count": 276,
   "metadata": {},
   "outputs": [],
   "source": [
    "atletas_df_pred.drop(columns=['id_y', 'nome','nome_y'],inplace=True)"
   ]
  },
  {
   "cell_type": "code",
   "execution_count": 277,
   "metadata": {},
   "outputs": [],
   "source": [
    "atletas_df_pred = pd.get_dummies(atletas_df,columns = [\"atletas.posicao_id\"],drop_first=True) "
   ]
  },
  {
   "cell_type": "code",
   "execution_count": 278,
   "metadata": {},
   "outputs": [
    {
     "data": {
      "text/plain": [
       "Index(['nome_atleta', 'slug', 'apelido', 'foto', 'atleta_id', 'rodada',\n",
       "       'clube_id', 'posicao_id', 'status_id', 'atletas.pontos_num',\n",
       "       'atletas.preco_num', 'atletas.variacao_num', 'atletas.media_num',\n",
       "       'jogos_num', 'DD', 'DP', 'GS', 'PI', 'SG', 'A', 'FC', 'FD', 'FF', 'FS',\n",
       "       'FT', 'G', 'I', 'PP', 'CA', 'DS', 'CV', 'GC', 'index', 'id_x', 'nome_y',\n",
       "       'abreviacao_x', 'escudos', 'nome_fantasia', '60x60', '45x45', '30x30',\n",
       "       'id_y', 'nome', 'atletas.posicao_id_gol', 'atletas.posicao_id_lat',\n",
       "       'atletas.posicao_id_mei', 'atletas.posicao_id_tec',\n",
       "       'atletas.posicao_id_zag'],\n",
       "      dtype='object')"
      ]
     },
     "execution_count": 278,
     "metadata": {},
     "output_type": "execute_result"
    }
   ],
   "source": [
    "atletas_df_pred.columns"
   ]
  },
  {
   "cell_type": "code",
   "execution_count": 279,
   "metadata": {},
   "outputs": [],
   "source": [
    "atletas_df_pred['ano']= datetime.datetime.now().year"
   ]
  },
  {
   "cell_type": "code",
   "execution_count": 280,
   "metadata": {},
   "outputs": [],
   "source": [
    "atletas_df_pred = atletas_df_pred[['atletas.pontos_num', 'atletas.preco_num', 'atletas.variacao_num',\n",
    "       'atletas.media_num', 'FC', 'FD', 'FF', 'FS', 'G', 'I', 'CA', 'A', 'SG',\n",
    "       'DD', 'FT', 'GS', 'CV', 'GC', 'ano', 'rodada', 'PP', 'DP', 'PI', 'DS','atletas.posicao_id_gol',\n",
    "       'atletas.posicao_id_lat', 'atletas.posicao_id_mei',\n",
    "       'atletas.posicao_id_tec', 'atletas.posicao_id_zag','atleta_id']]"
   ]
  },
  {
   "cell_type": "code",
   "execution_count": 281,
   "metadata": {},
   "outputs": [
    {
     "data": {
      "text/plain": [
       "<matplotlib.axes._subplots.AxesSubplot at 0x17039d12100>"
      ]
     },
     "execution_count": 281,
     "metadata": {},
     "output_type": "execute_result"
    },
    {
     "data": {
      "image/png": "[encoded data removed]",
      "text/plain": [
       "<Figure size 1008x216 with 3 Axes>"
      ]
     },
     "metadata": {
      "needs_background": "light"
     },
     "output_type": "display_data"
    }
   ],
   "source": [
    "msno.bar(atletas_df_pred, figsize=(14, 3))"
   ]
  },
  {
   "cell_type": "code",
   "execution_count": 282,
   "metadata": {},
   "outputs": [],
   "source": [
    "atletas_df_pred =atletas_df_pred.fillna(value=0)"
   ]
  },
  {
   "cell_type": "code",
   "execution_count": 283,
   "metadata": {},
   "outputs": [
    {
     "data": {
      "text/plain": [
       "<matplotlib.axes._subplots.AxesSubplot at 0x17057522cd0>"
      ]
     },
     "execution_count": 283,
     "metadata": {},
     "output_type": "execute_result"
    },
    {
     "data": {
      "image/png": "[encoded data removed]",
      "text/plain": [
       "<Figure size 1008x216 with 3 Axes>"
      ]
     },
     "metadata": {
      "needs_background": "light"
     },
     "output_type": "display_data"
    }
   ],
   "source": [
    "msno.bar(atletas_df_pred,figsize=(14,3))"
   ]
  },
  {
   "cell_type": "markdown",
   "metadata": {},
   "source": [
    "<h1 style=\"color:gray;\"> Import Model and generate a Prediction </h1>"
   ]
  },
  {
   "cell_type": "code",
   "execution_count": 284,
   "metadata": {},
   "outputs": [],
   "source": [
    "model= load('model.joblib') "
   ]
  },
  {
   "cell_type": "code",
   "execution_count": 285,
   "metadata": {},
   "outputs": [],
   "source": [
    "proxima_rodada_prep = atletas_df_pred.drop(columns = ['atleta_id'])"
   ]
  },
  {
   "cell_type": "code",
   "execution_count": 286,
   "metadata": {},
   "outputs": [],
   "source": [
    "proxima_rodada_pred = model.predict(proxima_rodada_prep)"
   ]
  },
  {
   "cell_type": "code",
   "execution_count": 287,
   "metadata": {},
   "outputs": [],
   "source": [
    "atletas_df['pred'] =proxima_rodada_pred"
   ]
  },
  {
   "cell_type": "code",
   "execution_count": 288,
   "metadata": {},
   "outputs": [],
   "source": [
    "atletas_df.to_excel('rodada_pred.xlsx')"
   ]
  }
 ],
 "metadata": {
  "kernelspec": {
   "display_name": "Python 3",
   "language": "python",
   "name": "python3"
  },
  "language_info": {
   "codemirror_mode": {
    "name": "ipython",
    "version": 3
   },
   "file_extension": ".py",
   "mimetype": "text/x-python",
   "name": "python",
   "nbconvert_exporter": "python",
   "pygments_lexer": "ipython3",
   "version": "3.8.3"
  }
 },
 "nbformat": 4,
 "nbformat_minor": 4
}
